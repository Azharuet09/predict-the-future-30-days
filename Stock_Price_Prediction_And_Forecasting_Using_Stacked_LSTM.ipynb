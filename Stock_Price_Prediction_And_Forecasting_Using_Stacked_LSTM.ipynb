{
  "nbformat": 4,
  "nbformat_minor": 0,
  "metadata": {
    "colab": {
      "provenance": [],
      "gpuType": "T4"
    },
    "kernelspec": {
      "name": "python3",
      "display_name": "Python 3"
    },
    "language_info": {
      "name": "python"
    },
    "accelerator": "GPU"
  },
  "cells": [
    {
      "cell_type": "markdown",
      "source": [
        "### 1.collect the stock data\n",
        "### 2 preprocess the data\n",
        "### 3 train and test split (timestep logic)\n",
        "### 4 create an stacked LSTM Model\n",
        "### 5 predict the test data and plot the output\n",
        "### 6 predict the future 30 days and plot the output."
      ],
      "metadata": {
        "id": "v14MBJI9iKfA"
      }
    },
    {
      "cell_type": "code",
      "execution_count": 1,
      "metadata": {
        "id": "yEL-HZBFy0fe"
      },
      "outputs": [],
      "source": [
        "### Data Collection\n",
        "import pandas_datareader as pdr\n",
        "key=\"2c39e65730d30280c6c8769a4c37841b50f7e723\""
      ]
    },
    {
      "cell_type": "code",
      "source": [
        "df = pdr.get_data_tiingo('AAPL', api_key=key)"
      ],
      "metadata": {
        "colab": {
          "base_uri": "https://localhost:8080/"
        },
        "id": "dR388XkHzxAT",
        "outputId": "617a718e-21fd-4cc3-ac9d-4506e7e90939"
      },
      "execution_count": 2,
      "outputs": [
        {
          "output_type": "stream",
          "name": "stderr",
          "text": [
            "<ipython-input-2-08157bf6935e>:1: FutureWarning: In a future version of pandas all arguments of concat except for the argument 'objs' will be keyword-only.\n",
            "  df = pdr.get_data_tiingo('AAPL', api_key=key)\n"
          ]
        }
      ]
    },
    {
      "cell_type": "code",
      "source": [
        "df.to_csv('AAPL.csv')"
      ],
      "metadata": {
        "id": "sISOWuExz24q"
      },
      "execution_count": 3,
      "outputs": []
    },
    {
      "cell_type": "code",
      "source": [
        "import pandas as pd"
      ],
      "metadata": {
        "id": "mcqC2PVLz5mc"
      },
      "execution_count": 4,
      "outputs": []
    },
    {
      "cell_type": "code",
      "source": [
        "df=pd.read_csv('/content/AAPL.csv')"
      ],
      "metadata": {
        "id": "K4EuKY3Pz8aa"
      },
      "execution_count": 5,
      "outputs": []
    },
    {
      "cell_type": "code",
      "source": [
        "df.head()"
      ],
      "metadata": {
        "colab": {
          "base_uri": "https://localhost:8080/",
          "height": 313
        },
        "id": "t_bMPe62z_UQ",
        "outputId": "57048a8d-e1ad-49bd-e337-f319b1b6d567"
      },
      "execution_count": 6,
      "outputs": [
        {
          "output_type": "execute_result",
          "data": {
            "text/plain": [
              "  symbol                       date   close    high     low    open    volume  \\\n",
              "0   AAPL  2019-04-01 00:00:00+00:00  191.24  191.68  188.38  191.64  27861964   \n",
              "1   AAPL  2019-04-02 00:00:00+00:00  194.02  194.46  191.05  191.09  22765732   \n",
              "2   AAPL  2019-04-03 00:00:00+00:00  195.35  196.50  193.15  193.25  23271830   \n",
              "3   AAPL  2019-04-04 00:00:00+00:00  195.69  196.37  193.14  194.79  19114275   \n",
              "4   AAPL  2019-04-05 00:00:00+00:00  197.00  197.10  195.93  196.45  18526644   \n",
              "\n",
              "    adjClose    adjHigh     adjLow    adjOpen  adjVolume  divCash  splitFactor  \n",
              "0  46.025197  46.131090  45.336888  46.121464  111447856      0.0          1.0  \n",
              "1  46.694252  46.800145  45.979470  45.989097   91062928      0.0          1.0  \n",
              "2  47.014339  47.291106  46.484871  46.508938   93087320      0.0          1.0  \n",
              "3  47.096166  47.259819  46.482464  46.879565   76457100      0.0          1.0  \n",
              "4  47.411440  47.435507  47.153926  47.279073   74106576      0.0          1.0  "
            ],
            "text/html": [
              "\n",
              "  <div id=\"df-1673286a-dd80-495d-b8c6-19571bedceb0\" class=\"colab-df-container\">\n",
              "    <div>\n",
              "<style scoped>\n",
              "    .dataframe tbody tr th:only-of-type {\n",
              "        vertical-align: middle;\n",
              "    }\n",
              "\n",
              "    .dataframe tbody tr th {\n",
              "        vertical-align: top;\n",
              "    }\n",
              "\n",
              "    .dataframe thead th {\n",
              "        text-align: right;\n",
              "    }\n",
              "</style>\n",
              "<table border=\"1\" class=\"dataframe\">\n",
              "  <thead>\n",
              "    <tr style=\"text-align: right;\">\n",
              "      <th></th>\n",
              "      <th>symbol</th>\n",
              "      <th>date</th>\n",
              "      <th>close</th>\n",
              "      <th>high</th>\n",
              "      <th>low</th>\n",
              "      <th>open</th>\n",
              "      <th>volume</th>\n",
              "      <th>adjClose</th>\n",
              "      <th>adjHigh</th>\n",
              "      <th>adjLow</th>\n",
              "      <th>adjOpen</th>\n",
              "      <th>adjVolume</th>\n",
              "      <th>divCash</th>\n",
              "      <th>splitFactor</th>\n",
              "    </tr>\n",
              "  </thead>\n",
              "  <tbody>\n",
              "    <tr>\n",
              "      <th>0</th>\n",
              "      <td>AAPL</td>\n",
              "      <td>2019-04-01 00:00:00+00:00</td>\n",
              "      <td>191.24</td>\n",
              "      <td>191.68</td>\n",
              "      <td>188.38</td>\n",
              "      <td>191.64</td>\n",
              "      <td>27861964</td>\n",
              "      <td>46.025197</td>\n",
              "      <td>46.131090</td>\n",
              "      <td>45.336888</td>\n",
              "      <td>46.121464</td>\n",
              "      <td>111447856</td>\n",
              "      <td>0.0</td>\n",
              "      <td>1.0</td>\n",
              "    </tr>\n",
              "    <tr>\n",
              "      <th>1</th>\n",
              "      <td>AAPL</td>\n",
              "      <td>2019-04-02 00:00:00+00:00</td>\n",
              "      <td>194.02</td>\n",
              "      <td>194.46</td>\n",
              "      <td>191.05</td>\n",
              "      <td>191.09</td>\n",
              "      <td>22765732</td>\n",
              "      <td>46.694252</td>\n",
              "      <td>46.800145</td>\n",
              "      <td>45.979470</td>\n",
              "      <td>45.989097</td>\n",
              "      <td>91062928</td>\n",
              "      <td>0.0</td>\n",
              "      <td>1.0</td>\n",
              "    </tr>\n",
              "    <tr>\n",
              "      <th>2</th>\n",
              "      <td>AAPL</td>\n",
              "      <td>2019-04-03 00:00:00+00:00</td>\n",
              "      <td>195.35</td>\n",
              "      <td>196.50</td>\n",
              "      <td>193.15</td>\n",
              "      <td>193.25</td>\n",
              "      <td>23271830</td>\n",
              "      <td>47.014339</td>\n",
              "      <td>47.291106</td>\n",
              "      <td>46.484871</td>\n",
              "      <td>46.508938</td>\n",
              "      <td>93087320</td>\n",
              "      <td>0.0</td>\n",
              "      <td>1.0</td>\n",
              "    </tr>\n",
              "    <tr>\n",
              "      <th>3</th>\n",
              "      <td>AAPL</td>\n",
              "      <td>2019-04-04 00:00:00+00:00</td>\n",
              "      <td>195.69</td>\n",
              "      <td>196.37</td>\n",
              "      <td>193.14</td>\n",
              "      <td>194.79</td>\n",
              "      <td>19114275</td>\n",
              "      <td>47.096166</td>\n",
              "      <td>47.259819</td>\n",
              "      <td>46.482464</td>\n",
              "      <td>46.879565</td>\n",
              "      <td>76457100</td>\n",
              "      <td>0.0</td>\n",
              "      <td>1.0</td>\n",
              "    </tr>\n",
              "    <tr>\n",
              "      <th>4</th>\n",
              "      <td>AAPL</td>\n",
              "      <td>2019-04-05 00:00:00+00:00</td>\n",
              "      <td>197.00</td>\n",
              "      <td>197.10</td>\n",
              "      <td>195.93</td>\n",
              "      <td>196.45</td>\n",
              "      <td>18526644</td>\n",
              "      <td>47.411440</td>\n",
              "      <td>47.435507</td>\n",
              "      <td>47.153926</td>\n",
              "      <td>47.279073</td>\n",
              "      <td>74106576</td>\n",
              "      <td>0.0</td>\n",
              "      <td>1.0</td>\n",
              "    </tr>\n",
              "  </tbody>\n",
              "</table>\n",
              "</div>\n",
              "    <div class=\"colab-df-buttons\">\n",
              "\n",
              "  <div class=\"colab-df-container\">\n",
              "    <button class=\"colab-df-convert\" onclick=\"convertToInteractive('df-1673286a-dd80-495d-b8c6-19571bedceb0')\"\n",
              "            title=\"Convert this dataframe to an interactive table.\"\n",
              "            style=\"display:none;\">\n",
              "\n",
              "  <svg xmlns=\"http://www.w3.org/2000/svg\" height=\"24px\" viewBox=\"0 -960 960 960\">\n",
              "    <path d=\"M120-120v-720h720v720H120Zm60-500h600v-160H180v160Zm220 220h160v-160H400v160Zm0 220h160v-160H400v160ZM180-400h160v-160H180v160Zm440 0h160v-160H620v160ZM180-180h160v-160H180v160Zm440 0h160v-160H620v160Z\"/>\n",
              "  </svg>\n",
              "    </button>\n",
              "\n",
              "  <style>\n",
              "    .colab-df-container {\n",
              "      display:flex;\n",
              "      gap: 12px;\n",
              "    }\n",
              "\n",
              "    .colab-df-convert {\n",
              "      background-color: #E8F0FE;\n",
              "      border: none;\n",
              "      border-radius: 50%;\n",
              "      cursor: pointer;\n",
              "      display: none;\n",
              "      fill: #1967D2;\n",
              "      height: 32px;\n",
              "      padding: 0 0 0 0;\n",
              "      width: 32px;\n",
              "    }\n",
              "\n",
              "    .colab-df-convert:hover {\n",
              "      background-color: #E2EBFA;\n",
              "      box-shadow: 0px 1px 2px rgba(60, 64, 67, 0.3), 0px 1px 3px 1px rgba(60, 64, 67, 0.15);\n",
              "      fill: #174EA6;\n",
              "    }\n",
              "\n",
              "    .colab-df-buttons div {\n",
              "      margin-bottom: 4px;\n",
              "    }\n",
              "\n",
              "    [theme=dark] .colab-df-convert {\n",
              "      background-color: #3B4455;\n",
              "      fill: #D2E3FC;\n",
              "    }\n",
              "\n",
              "    [theme=dark] .colab-df-convert:hover {\n",
              "      background-color: #434B5C;\n",
              "      box-shadow: 0px 1px 3px 1px rgba(0, 0, 0, 0.15);\n",
              "      filter: drop-shadow(0px 1px 2px rgba(0, 0, 0, 0.3));\n",
              "      fill: #FFFFFF;\n",
              "    }\n",
              "  </style>\n",
              "\n",
              "    <script>\n",
              "      const buttonEl =\n",
              "        document.querySelector('#df-1673286a-dd80-495d-b8c6-19571bedceb0 button.colab-df-convert');\n",
              "      buttonEl.style.display =\n",
              "        google.colab.kernel.accessAllowed ? 'block' : 'none';\n",
              "\n",
              "      async function convertToInteractive(key) {\n",
              "        const element = document.querySelector('#df-1673286a-dd80-495d-b8c6-19571bedceb0');\n",
              "        const dataTable =\n",
              "          await google.colab.kernel.invokeFunction('convertToInteractive',\n",
              "                                                    [key], {});\n",
              "        if (!dataTable) return;\n",
              "\n",
              "        const docLinkHtml = 'Like what you see? Visit the ' +\n",
              "          '<a target=\"_blank\" href=https://colab.research.google.com/notebooks/data_table.ipynb>data table notebook</a>'\n",
              "          + ' to learn more about interactive tables.';\n",
              "        element.innerHTML = '';\n",
              "        dataTable['output_type'] = 'display_data';\n",
              "        await google.colab.output.renderOutput(dataTable, element);\n",
              "        const docLink = document.createElement('div');\n",
              "        docLink.innerHTML = docLinkHtml;\n",
              "        element.appendChild(docLink);\n",
              "      }\n",
              "    </script>\n",
              "  </div>\n",
              "\n",
              "\n",
              "<div id=\"df-c0856cd6-9f4c-4551-886d-d55d00f33fb1\">\n",
              "  <button class=\"colab-df-quickchart\" onclick=\"quickchart('df-c0856cd6-9f4c-4551-886d-d55d00f33fb1')\"\n",
              "            title=\"Suggest charts\"\n",
              "            style=\"display:none;\">\n",
              "\n",
              "<svg xmlns=\"http://www.w3.org/2000/svg\" height=\"24px\"viewBox=\"0 0 24 24\"\n",
              "     width=\"24px\">\n",
              "    <g>\n",
              "        <path d=\"M19 3H5c-1.1 0-2 .9-2 2v14c0 1.1.9 2 2 2h14c1.1 0 2-.9 2-2V5c0-1.1-.9-2-2-2zM9 17H7v-7h2v7zm4 0h-2V7h2v10zm4 0h-2v-4h2v4z\"/>\n",
              "    </g>\n",
              "</svg>\n",
              "  </button>\n",
              "\n",
              "<style>\n",
              "  .colab-df-quickchart {\n",
              "      --bg-color: #E8F0FE;\n",
              "      --fill-color: #1967D2;\n",
              "      --hover-bg-color: #E2EBFA;\n",
              "      --hover-fill-color: #174EA6;\n",
              "      --disabled-fill-color: #AAA;\n",
              "      --disabled-bg-color: #DDD;\n",
              "  }\n",
              "\n",
              "  [theme=dark] .colab-df-quickchart {\n",
              "      --bg-color: #3B4455;\n",
              "      --fill-color: #D2E3FC;\n",
              "      --hover-bg-color: #434B5C;\n",
              "      --hover-fill-color: #FFFFFF;\n",
              "      --disabled-bg-color: #3B4455;\n",
              "      --disabled-fill-color: #666;\n",
              "  }\n",
              "\n",
              "  .colab-df-quickchart {\n",
              "    background-color: var(--bg-color);\n",
              "    border: none;\n",
              "    border-radius: 50%;\n",
              "    cursor: pointer;\n",
              "    display: none;\n",
              "    fill: var(--fill-color);\n",
              "    height: 32px;\n",
              "    padding: 0;\n",
              "    width: 32px;\n",
              "  }\n",
              "\n",
              "  .colab-df-quickchart:hover {\n",
              "    background-color: var(--hover-bg-color);\n",
              "    box-shadow: 0 1px 2px rgba(60, 64, 67, 0.3), 0 1px 3px 1px rgba(60, 64, 67, 0.15);\n",
              "    fill: var(--button-hover-fill-color);\n",
              "  }\n",
              "\n",
              "  .colab-df-quickchart-complete:disabled,\n",
              "  .colab-df-quickchart-complete:disabled:hover {\n",
              "    background-color: var(--disabled-bg-color);\n",
              "    fill: var(--disabled-fill-color);\n",
              "    box-shadow: none;\n",
              "  }\n",
              "\n",
              "  .colab-df-spinner {\n",
              "    border: 2px solid var(--fill-color);\n",
              "    border-color: transparent;\n",
              "    border-bottom-color: var(--fill-color);\n",
              "    animation:\n",
              "      spin 1s steps(1) infinite;\n",
              "  }\n",
              "\n",
              "  @keyframes spin {\n",
              "    0% {\n",
              "      border-color: transparent;\n",
              "      border-bottom-color: var(--fill-color);\n",
              "      border-left-color: var(--fill-color);\n",
              "    }\n",
              "    20% {\n",
              "      border-color: transparent;\n",
              "      border-left-color: var(--fill-color);\n",
              "      border-top-color: var(--fill-color);\n",
              "    }\n",
              "    30% {\n",
              "      border-color: transparent;\n",
              "      border-left-color: var(--fill-color);\n",
              "      border-top-color: var(--fill-color);\n",
              "      border-right-color: var(--fill-color);\n",
              "    }\n",
              "    40% {\n",
              "      border-color: transparent;\n",
              "      border-right-color: var(--fill-color);\n",
              "      border-top-color: var(--fill-color);\n",
              "    }\n",
              "    60% {\n",
              "      border-color: transparent;\n",
              "      border-right-color: var(--fill-color);\n",
              "    }\n",
              "    80% {\n",
              "      border-color: transparent;\n",
              "      border-right-color: var(--fill-color);\n",
              "      border-bottom-color: var(--fill-color);\n",
              "    }\n",
              "    90% {\n",
              "      border-color: transparent;\n",
              "      border-bottom-color: var(--fill-color);\n",
              "    }\n",
              "  }\n",
              "</style>\n",
              "\n",
              "  <script>\n",
              "    async function quickchart(key) {\n",
              "      const quickchartButtonEl =\n",
              "        document.querySelector('#' + key + ' button');\n",
              "      quickchartButtonEl.disabled = true;  // To prevent multiple clicks.\n",
              "      quickchartButtonEl.classList.add('colab-df-spinner');\n",
              "      try {\n",
              "        const charts = await google.colab.kernel.invokeFunction(\n",
              "            'suggestCharts', [key], {});\n",
              "      } catch (error) {\n",
              "        console.error('Error during call to suggestCharts:', error);\n",
              "      }\n",
              "      quickchartButtonEl.classList.remove('colab-df-spinner');\n",
              "      quickchartButtonEl.classList.add('colab-df-quickchart-complete');\n",
              "    }\n",
              "    (() => {\n",
              "      let quickchartButtonEl =\n",
              "        document.querySelector('#df-c0856cd6-9f4c-4551-886d-d55d00f33fb1 button');\n",
              "      quickchartButtonEl.style.display =\n",
              "        google.colab.kernel.accessAllowed ? 'block' : 'none';\n",
              "    })();\n",
              "  </script>\n",
              "</div>\n",
              "\n",
              "    </div>\n",
              "  </div>\n"
            ],
            "application/vnd.google.colaboratory.intrinsic+json": {
              "type": "dataframe",
              "variable_name": "df",
              "summary": "{\n  \"name\": \"df\",\n  \"rows\": 1257,\n  \"fields\": [\n    {\n      \"column\": \"symbol\",\n      \"properties\": {\n        \"dtype\": \"category\",\n        \"num_unique_values\": 1,\n        \"samples\": [\n          \"AAPL\"\n        ],\n        \"semantic_type\": \"\",\n        \"description\": \"\"\n      }\n    },\n    {\n      \"column\": \"date\",\n      \"properties\": {\n        \"dtype\": \"object\",\n        \"num_unique_values\": 1257,\n        \"samples\": [\n          \"2020-12-18 00:00:00+00:00\"\n        ],\n        \"semantic_type\": \"\",\n        \"description\": \"\"\n      }\n    },\n    {\n      \"column\": \"close\",\n      \"properties\": {\n        \"dtype\": \"number\",\n        \"std\": 69.17562449802821,\n        \"min\": 106.84,\n        \"max\": 506.09,\n        \"num_unique_values\": 1198,\n        \"samples\": [\n          184.37\n        ],\n        \"semantic_type\": \"\",\n        \"description\": \"\"\n      }\n    },\n    {\n      \"column\": \"high\",\n      \"properties\": {\n        \"dtype\": \"number\",\n        \"std\": 69.82060390659083,\n        \"min\": 110.19,\n        \"max\": 515.14,\n        \"num_unique_values\": 1209,\n        \"samples\": [\n          212.05\n        ],\n        \"semantic_type\": \"\",\n        \"description\": \"\"\n      }\n    },\n    {\n      \"column\": \"low\",\n      \"properties\": {\n        \"dtype\": \"number\",\n        \"std\": 68.18115655461307,\n        \"min\": 103.1,\n        \"max\": 500.33,\n        \"num_unique_values\": 1223,\n        \"samples\": [\n          156.36\n        ],\n        \"semantic_type\": \"\",\n        \"description\": \"\"\n      }\n    },\n    {\n      \"column\": \"open\",\n      \"properties\": {\n        \"dtype\": \"number\",\n        \"std\": 68.89217232636054,\n        \"min\": 104.54,\n        \"max\": 514.79,\n        \"num_unique_values\": 1203,\n        \"samples\": [\n          193.63\n        ],\n        \"semantic_type\": \"\",\n        \"description\": \"\"\n      }\n    },\n    {\n      \"column\": \"volume\",\n      \"properties\": {\n        \"dtype\": \"number\",\n        \"std\": 38018349,\n        \"min\": 11362045,\n        \"max\": 332607163,\n        \"num_unique_values\": 1257,\n        \"samples\": [\n          192541496\n        ],\n        \"semantic_type\": \"\",\n        \"description\": \"\"\n      }\n    },\n    {\n      \"column\": \"adjClose\",\n      \"properties\": {\n        \"dtype\": \"number\",\n        \"std\": 44.75213218371945,\n        \"min\": 41.8704978331,\n        \"max\": 197.8585514834,\n        \"num_unique_values\": 1245,\n        \"samples\": [\n          156.7341856681\n        ],\n        \"semantic_type\": \"\",\n        \"description\": \"\"\n      }\n    },\n    {\n      \"column\": \"adjHigh\",\n      \"properties\": {\n        \"dtype\": \"number\",\n        \"std\": 45.09681380935168,\n        \"min\": 42.9867222993,\n        \"max\": 199.3666349357,\n        \"num_unique_values\": 1245,\n        \"samples\": [\n          157.4856238533\n        ],\n        \"semantic_type\": \"\",\n        \"description\": \"\"\n      }\n    },\n    {\n      \"column\": \"adjLow\",\n      \"properties\": {\n        \"dtype\": \"number\",\n        \"std\": 44.376019863102826,\n        \"min\": 41.1384285403,\n        \"max\": 196.7499603363,\n        \"num_unique_values\": 1249,\n        \"samples\": [\n          168.6112304176\n        ],\n        \"semantic_type\": \"\",\n        \"description\": \"\"\n      }\n    },\n    {\n      \"column\": \"adjOpen\",\n      \"properties\": {\n        \"dtype\": \"number\",\n        \"std\": 44.743056354724395,\n        \"min\": 42.3875368715,\n        \"max\": 197.7686657147,\n        \"num_unique_values\": 1243,\n        \"samples\": [\n          139.4560162297\n        ],\n        \"semantic_type\": \"\",\n        \"description\": \"\"\n      }\n    },\n    {\n      \"column\": \"adjVolume\",\n      \"properties\": {\n        \"dtype\": \"number\",\n        \"std\": 51983192,\n        \"min\": 24048344,\n        \"max\": 426884920,\n        \"num_unique_values\": 1257,\n        \"samples\": [\n          192541496\n        ],\n        \"semantic_type\": \"\",\n        \"description\": \"\"\n      }\n    },\n    {\n      \"column\": \"divCash\",\n      \"properties\": {\n        \"dtype\": \"number\",\n        \"std\": 0.059097011199742595,\n        \"min\": 0.0,\n        \"max\": 0.82,\n        \"num_unique_values\": 7,\n        \"samples\": [\n          0.0\n        ],\n        \"semantic_type\": \"\",\n        \"description\": \"\"\n      }\n    },\n    {\n      \"column\": \"splitFactor\",\n      \"properties\": {\n        \"dtype\": \"number\",\n        \"std\": 0.08461621909897772,\n        \"min\": 1.0,\n        \"max\": 4.0,\n        \"num_unique_values\": 2,\n        \"samples\": [\n          4.0\n        ],\n        \"semantic_type\": \"\",\n        \"description\": \"\"\n      }\n    }\n  ]\n}"
            }
          },
          "metadata": {},
          "execution_count": 6
        }
      ]
    },
    {
      "cell_type": "code",
      "source": [
        "df.columns"
      ],
      "metadata": {
        "colab": {
          "base_uri": "https://localhost:8080/"
        },
        "id": "f0a0wByh0BWT",
        "outputId": "43c3c3d2-c1ac-4d1c-9ef8-5344b72da3fe"
      },
      "execution_count": 7,
      "outputs": [
        {
          "output_type": "execute_result",
          "data": {
            "text/plain": [
              "Index(['symbol', 'date', 'close', 'high', 'low', 'open', 'volume', 'adjClose',\n",
              "       'adjHigh', 'adjLow', 'adjOpen', 'adjVolume', 'divCash', 'splitFactor'],\n",
              "      dtype='object')"
            ]
          },
          "metadata": {},
          "execution_count": 7
        }
      ]
    },
    {
      "cell_type": "code",
      "source": [
        "df.isnull().sum().sum()"
      ],
      "metadata": {
        "colab": {
          "base_uri": "https://localhost:8080/"
        },
        "id": "ZLjIoUMa0GWE",
        "outputId": "965d1f6e-bc29-4254-a8f9-aed5bb858464"
      },
      "execution_count": 8,
      "outputs": [
        {
          "output_type": "execute_result",
          "data": {
            "text/plain": [
              "0"
            ]
          },
          "metadata": {},
          "execution_count": 8
        }
      ]
    },
    {
      "cell_type": "code",
      "source": [
        "df1=df.reset_index()['close']"
      ],
      "metadata": {
        "id": "fRvqnBQ10Sip"
      },
      "execution_count": 9,
      "outputs": []
    },
    {
      "cell_type": "code",
      "source": [
        "df1.head()"
      ],
      "metadata": {
        "colab": {
          "base_uri": "https://localhost:8080/"
        },
        "id": "ImBviFHK1NwO",
        "outputId": "f346ee78-42fa-4ed8-b983-5a8abf9a5858"
      },
      "execution_count": 10,
      "outputs": [
        {
          "output_type": "execute_result",
          "data": {
            "text/plain": [
              "0    191.24\n",
              "1    194.02\n",
              "2    195.35\n",
              "3    195.69\n",
              "4    197.00\n",
              "Name: close, dtype: float64"
            ]
          },
          "metadata": {},
          "execution_count": 10
        }
      ]
    },
    {
      "cell_type": "code",
      "source": [
        "df1.tail()"
      ],
      "metadata": {
        "colab": {
          "base_uri": "https://localhost:8080/"
        },
        "id": "rlKo08r01RO5",
        "outputId": "a92e6ff5-6dcb-4b67-933d-6bb0a483dd0b"
      },
      "execution_count": 11,
      "outputs": [
        {
          "output_type": "execute_result",
          "data": {
            "text/plain": [
              "1252    171.37\n",
              "1253    172.28\n",
              "1254    170.85\n",
              "1255    169.71\n",
              "1256    173.31\n",
              "Name: close, dtype: float64"
            ]
          },
          "metadata": {},
          "execution_count": 11
        }
      ]
    },
    {
      "cell_type": "code",
      "source": [
        "import matplotlib.pyplot as plt\n",
        "plt.plot(df1)"
      ],
      "metadata": {
        "colab": {
          "base_uri": "https://localhost:8080/",
          "height": 448
        },
        "id": "KWPL8qzS0KNN",
        "outputId": "299188ce-ab58-4e73-c714-960c86edc0ab"
      },
      "execution_count": 12,
      "outputs": [
        {
          "output_type": "execute_result",
          "data": {
            "text/plain": [
              "[<matplotlib.lines.Line2D at 0x7b8dc488ca90>]"
            ]
          },
          "metadata": {},
          "execution_count": 12
        },
        {
          "output_type": "display_data",
          "data": {
            "text/plain": [
              "<Figure size 640x480 with 1 Axes>"
            ],
            "image/png": "[encoded data removed]"
          },
          "metadata": {}
        }
      ]
    },
    {
      "cell_type": "code",
      "source": [
        "import numpy as np"
      ],
      "metadata": {
        "id": "jfpSKhuk0Qqh"
      },
      "execution_count": 13,
      "outputs": []
    },
    {
      "cell_type": "code",
      "source": [
        "df1"
      ],
      "metadata": {
        "colab": {
          "base_uri": "https://localhost:8080/"
        },
        "id": "necbPxtqebjk",
        "outputId": "9797d9f8-80f4-4e19-b90b-147deb0c6b90"
      },
      "execution_count": 14,
      "outputs": [
        {
          "output_type": "execute_result",
          "data": {
            "text/plain": [
              "0       191.24\n",
              "1       194.02\n",
              "2       195.35\n",
              "3       195.69\n",
              "4       197.00\n",
              "         ...  \n",
              "1252    171.37\n",
              "1253    172.28\n",
              "1254    170.85\n",
              "1255    169.71\n",
              "1256    173.31\n",
              "Name: close, Length: 1257, dtype: float64"
            ]
          },
          "metadata": {},
          "execution_count": 14
        }
      ]
    },
    {
      "cell_type": "code",
      "source": [
        "from sklearn.preprocessing import MinMaxScaler\n",
        "scaler=MinMaxScaler(feature_range=(0,1))\n",
        "df1=scaler.fit_transform(np.array(df1).reshape(-1,1))"
      ],
      "metadata": {
        "id": "5PelaSdAedkO"
      },
      "execution_count": 15,
      "outputs": []
    },
    {
      "cell_type": "code",
      "source": [
        "print(df1)"
      ],
      "metadata": {
        "colab": {
          "base_uri": "https://localhost:8080/"
        },
        "id": "kb8f4Hcueg9w",
        "outputId": "e9bf1ea8-a94b-49ed-d425-5abcd6112ee8"
      },
      "execution_count": 16,
      "outputs": [
        {
          "output_type": "stream",
          "name": "stdout",
          "text": [
            "[[0.21139637]\n",
            " [0.21835942]\n",
            " [0.22169067]\n",
            " ...\n",
            " [0.16032561]\n",
            " [0.15747026]\n",
            " [0.16648716]]\n"
          ]
        }
      ]
    },
    {
      "cell_type": "code",
      "source": [
        "##splitting dataset into train and test split\n",
        "training_size=int(len(df1)*0.65)\n",
        "test_size=len(df1)-training_size\n",
        "train_data,test_data=df1[0:training_size,:],df1[training_size:len(df1),:1]"
      ],
      "metadata": {
        "id": "8I29fN-5esax"
      },
      "execution_count": 17,
      "outputs": []
    },
    {
      "cell_type": "code",
      "source": [
        "len(train_data),len(test_data)"
      ],
      "metadata": {
        "colab": {
          "base_uri": "https://localhost:8080/"
        },
        "id": "dC1J9OPoeuzq",
        "outputId": "ae55eb7a-d82e-45e2-df7b-41749de6ed35"
      },
      "execution_count": 22,
      "outputs": [
        {
          "output_type": "execute_result",
          "data": {
            "text/plain": [
              "(817, 440)"
            ]
          },
          "metadata": {},
          "execution_count": 22
        }
      ]
    },
    {
      "cell_type": "code",
      "source": [
        "import numpy\n",
        "# convert an array of values into a dataset matrix\n",
        "def create_dataset(dataset, time_step=1):\n",
        "\tdataX, dataY = [], []\n",
        "\tfor i in range(len(dataset)-time_step-1):\n",
        "\t\ta = dataset[i:(i+time_step), 0]   ###i=0, 0,1,2,3-----99   100\n",
        "\t\tdataX.append(a)\n",
        "\t\tdataY.append(dataset[i + time_step, 0])\n",
        "\treturn numpy.array(dataX), numpy.array(dataY)"
      ],
      "metadata": {
        "id": "Ox1FOoQSewG5"
      },
      "execution_count": 20,
      "outputs": []
    },
    {
      "cell_type": "code",
      "source": [
        "# reshape into X=t,t+1,t+2,t+3 and Y=t+4\n",
        "time_step = 100\n",
        "X_train, y_train = create_dataset(train_data, time_step)\n",
        "X_test, ytest = create_dataset(test_data, time_step)"
      ],
      "metadata": {
        "id": "WbfQyjQpfF3j"
      },
      "execution_count": 23,
      "outputs": []
    },
    {
      "cell_type": "code",
      "source": [
        "len(X_train),len(y_train),len(X_test),len(ytest)"
      ],
      "metadata": {
        "colab": {
          "base_uri": "https://localhost:8080/"
        },
        "id": "PlIh0lH_fhKc",
        "outputId": "4e96ed43-759d-4d63-a1b0-bb9fcb9f89eb"
      },
      "execution_count": 24,
      "outputs": [
        {
          "output_type": "execute_result",
          "data": {
            "text/plain": [
              "(716, 716, 339, 339)"
            ]
          },
          "metadata": {},
          "execution_count": 24
        }
      ]
    },
    {
      "cell_type": "code",
      "source": [
        "print(X_train.shape)"
      ],
      "metadata": {
        "colab": {
          "base_uri": "https://localhost:8080/"
        },
        "id": "guByW6zbfpe8",
        "outputId": "cc976638-6ec7-4c1a-b80f-2643b49058e5"
      },
      "execution_count": 26,
      "outputs": [
        {
          "output_type": "stream",
          "name": "stdout",
          "text": [
            "(716, 100)\n"
          ]
        }
      ]
    },
    {
      "cell_type": "code",
      "source": [
        "print(y_train.shape)"
      ],
      "metadata": {
        "colab": {
          "base_uri": "https://localhost:8080/"
        },
        "id": "sE1-Q-10fzVl",
        "outputId": "97c1a091-68ad-463a-c42e-b14ef7910d55"
      },
      "execution_count": 28,
      "outputs": [
        {
          "output_type": "stream",
          "name": "stdout",
          "text": [
            "(716,)\n"
          ]
        }
      ]
    },
    {
      "cell_type": "code",
      "source": [
        "print(X_test.shape), print(ytest.shape)"
      ],
      "metadata": {
        "colab": {
          "base_uri": "https://localhost:8080/"
        },
        "id": "MjkCS4YhfunV",
        "outputId": "de643759-e0f3-44cf-e3fd-957ac7259e6e"
      },
      "execution_count": 29,
      "outputs": [
        {
          "output_type": "stream",
          "name": "stdout",
          "text": [
            "(339, 100)\n",
            "(339,)\n"
          ]
        },
        {
          "output_type": "execute_result",
          "data": {
            "text/plain": [
              "(None, None)"
            ]
          },
          "metadata": {},
          "execution_count": 29
        }
      ]
    },
    {
      "cell_type": "code",
      "source": [
        "# reshape input to be [samples, time steps, features] which is required for LSTM\n",
        "X_train =X_train.reshape(X_train.shape[0],X_train.shape[1] , 1)\n",
        "X_test = X_test.reshape(X_test.shape[0],X_test.shape[1] , 1)"
      ],
      "metadata": {
        "id": "kIO4atBef37M"
      },
      "execution_count": 30,
      "outputs": []
    },
    {
      "cell_type": "code",
      "source": [
        "### Create the Stacked LSTM model\n",
        "from tensorflow.keras.models import Sequential\n",
        "from tensorflow.keras.layers import Dense\n",
        "from tensorflow.keras.layers import LSTM"
      ],
      "metadata": {
        "id": "zCbPYno5f7DG"
      },
      "execution_count": 31,
      "outputs": []
    },
    {
      "cell_type": "code",
      "source": [
        "model=Sequential()\n",
        "model.add(LSTM(50,return_sequences=True,input_shape=(100,1)))\n",
        "model.add(LSTM(50,return_sequences=True))\n",
        "model.add(LSTM(50))\n",
        "model.add(Dense(1))\n",
        "model.compile(loss='mean_squared_error',optimizer='adam')"
      ],
      "metadata": {
        "id": "mq2Nir7yf9IN"
      },
      "execution_count": 32,
      "outputs": []
    },
    {
      "cell_type": "code",
      "source": [
        "model.summary()"
      ],
      "metadata": {
        "colab": {
          "base_uri": "https://localhost:8080/"
        },
        "id": "HDv-38MsgBm_",
        "outputId": "551e1f56-e5d9-4be3-86f3-211671eb5c8d"
      },
      "execution_count": 33,
      "outputs": [
        {
          "output_type": "stream",
          "name": "stdout",
          "text": [
            "Model: \"sequential\"\n",
            "_________________________________________________________________\n",
            " Layer (type)                Output Shape              Param #   \n",
            "=================================================================\n",
            " lstm (LSTM)                 (None, 100, 50)           10400     \n",
            "                                                                 \n",
            " lstm_1 (LSTM)               (None, 100, 50)           20200     \n",
            "                                                                 \n",
            " lstm_2 (LSTM)               (None, 50)                20200     \n",
            "                                                                 \n",
            " dense (Dense)               (None, 1)                 51        \n",
            "                                                                 \n",
            "=================================================================\n",
            "Total params: 50851 (198.64 KB)\n",
            "Trainable params: 50851 (198.64 KB)\n",
            "Non-trainable params: 0 (0.00 Byte)\n",
            "_________________________________________________________________\n"
          ]
        }
      ]
    },
    {
      "cell_type": "code",
      "source": [
        "model.fit(X_train,y_train,validation_data=(X_test,ytest),epochs=100,batch_size=64,verbose=1)"
      ],
      "metadata": {
        "colab": {
          "base_uri": "https://localhost:8080/"
        },
        "id": "WprAQVpzgIEG",
        "outputId": "6bb38b72-ddf9-4976-ac50-a0cd5b21a4d2"
      },
      "execution_count": 35,
      "outputs": [
        {
          "output_type": "stream",
          "name": "stdout",
          "text": [
            "Epoch 1/100\n",
            "12/12 [==============================] - 9s 143ms/step - loss: 0.0329 - val_loss: 0.0011\n",
            "Epoch 2/100\n",
            "12/12 [==============================] - 0s 20ms/step - loss: 0.0145 - val_loss: 0.0026\n",
            "Epoch 3/100\n",
            "12/12 [==============================] - 0s 19ms/step - loss: 0.0115 - val_loss: 5.4624e-04\n",
            "Epoch 4/100\n",
            "12/12 [==============================] - 0s 19ms/step - loss: 0.0098 - val_loss: 3.6844e-04\n",
            "Epoch 5/100\n",
            "12/12 [==============================] - 0s 20ms/step - loss: 0.0086 - val_loss: 0.0011\n",
            "Epoch 6/100\n",
            "12/12 [==============================] - 0s 18ms/step - loss: 0.0076 - val_loss: 4.5647e-04\n",
            "Epoch 7/100\n",
            "12/12 [==============================] - 0s 19ms/step - loss: 0.0067 - val_loss: 0.0010\n",
            "Epoch 8/100\n",
            "12/12 [==============================] - 0s 19ms/step - loss: 0.0061 - val_loss: 6.8180e-04\n",
            "Epoch 9/100\n",
            "12/12 [==============================] - 0s 19ms/step - loss: 0.0055 - val_loss: 0.0012\n",
            "Epoch 10/100\n",
            "12/12 [==============================] - 0s 20ms/step - loss: 0.0052 - val_loss: 0.0013\n",
            "Epoch 11/100\n",
            "12/12 [==============================] - 0s 27ms/step - loss: 0.0044 - val_loss: 2.6852e-04\n",
            "Epoch 12/100\n",
            "12/12 [==============================] - 0s 28ms/step - loss: 0.0048 - val_loss: 2.8991e-04\n",
            "Epoch 13/100\n",
            "12/12 [==============================] - 0s 26ms/step - loss: 0.0037 - val_loss: 2.7378e-04\n",
            "Epoch 14/100\n",
            "12/12 [==============================] - 0s 25ms/step - loss: 0.0036 - val_loss: 3.0939e-04\n",
            "Epoch 15/100\n",
            "12/12 [==============================] - 0s 27ms/step - loss: 0.0045 - val_loss: 1.9221e-04\n",
            "Epoch 16/100\n",
            "12/12 [==============================] - 0s 27ms/step - loss: 0.0040 - val_loss: 2.1707e-04\n",
            "Epoch 17/100\n",
            "12/12 [==============================] - 0s 26ms/step - loss: 0.0031 - val_loss: 2.0292e-04\n",
            "Epoch 18/100\n",
            "12/12 [==============================] - 0s 19ms/step - loss: 0.0028 - val_loss: 2.4553e-04\n",
            "Epoch 19/100\n",
            "12/12 [==============================] - 0s 18ms/step - loss: 0.0028 - val_loss: 2.2340e-04\n",
            "Epoch 20/100\n",
            "12/12 [==============================] - 0s 19ms/step - loss: 0.0025 - val_loss: 2.5417e-04\n",
            "Epoch 21/100\n",
            "12/12 [==============================] - 0s 18ms/step - loss: 0.0029 - val_loss: 2.2591e-04\n",
            "Epoch 22/100\n",
            "12/12 [==============================] - 0s 19ms/step - loss: 0.0020 - val_loss: 2.3505e-04\n",
            "Epoch 23/100\n",
            "12/12 [==============================] - 0s 19ms/step - loss: 0.0027 - val_loss: 5.0723e-04\n",
            "Epoch 24/100\n",
            "12/12 [==============================] - 0s 18ms/step - loss: 0.0023 - val_loss: 2.2816e-04\n",
            "Epoch 25/100\n",
            "12/12 [==============================] - 0s 19ms/step - loss: 0.0021 - val_loss: 1.9731e-04\n",
            "Epoch 26/100\n",
            "12/12 [==============================] - 0s 18ms/step - loss: 0.0027 - val_loss: 3.2917e-04\n",
            "Epoch 27/100\n",
            "12/12 [==============================] - 0s 20ms/step - loss: 0.0018 - val_loss: 2.5161e-04\n",
            "Epoch 28/100\n",
            "12/12 [==============================] - 0s 18ms/step - loss: 0.0018 - val_loss: 1.9200e-04\n",
            "Epoch 29/100\n",
            "12/12 [==============================] - 0s 19ms/step - loss: 0.0020 - val_loss: 2.3876e-04\n",
            "Epoch 30/100\n",
            "12/12 [==============================] - 0s 19ms/step - loss: 0.0017 - val_loss: 2.1355e-04\n",
            "Epoch 31/100\n",
            "12/12 [==============================] - 0s 18ms/step - loss: 0.0018 - val_loss: 2.7145e-04\n",
            "Epoch 32/100\n",
            "12/12 [==============================] - 0s 18ms/step - loss: 0.0019 - val_loss: 1.9589e-04\n",
            "Epoch 33/100\n",
            "12/12 [==============================] - 0s 18ms/step - loss: 0.0018 - val_loss: 2.1844e-04\n",
            "Epoch 34/100\n",
            "12/12 [==============================] - 0s 19ms/step - loss: 0.0023 - val_loss: 2.1852e-04\n",
            "Epoch 35/100\n",
            "12/12 [==============================] - 0s 19ms/step - loss: 0.0020 - val_loss: 2.3965e-04\n",
            "Epoch 36/100\n",
            "12/12 [==============================] - 0s 19ms/step - loss: 0.0021 - val_loss: 2.0936e-04\n",
            "Epoch 37/100\n",
            "12/12 [==============================] - 0s 22ms/step - loss: 0.0035 - val_loss: 5.1344e-04\n",
            "Epoch 38/100\n",
            "12/12 [==============================] - 0s 40ms/step - loss: 0.0026 - val_loss: 2.5292e-04\n",
            "Epoch 39/100\n",
            "12/12 [==============================] - 0s 21ms/step - loss: 0.0022 - val_loss: 2.1511e-04\n",
            "Epoch 40/100\n",
            "12/12 [==============================] - 0s 33ms/step - loss: 0.0018 - val_loss: 1.9812e-04\n",
            "Epoch 41/100\n",
            "12/12 [==============================] - 0s 39ms/step - loss: 0.0016 - val_loss: 2.0324e-04\n",
            "Epoch 42/100\n",
            "12/12 [==============================] - 1s 47ms/step - loss: 0.0015 - val_loss: 2.5782e-04\n",
            "Epoch 43/100\n",
            "12/12 [==============================] - 0s 34ms/step - loss: 0.0020 - val_loss: 2.1390e-04\n",
            "Epoch 44/100\n",
            "12/12 [==============================] - 0s 37ms/step - loss: 0.0019 - val_loss: 2.0675e-04\n",
            "Epoch 45/100\n",
            "12/12 [==============================] - 0s 32ms/step - loss: 0.0018 - val_loss: 1.9265e-04\n",
            "Epoch 46/100\n",
            "12/12 [==============================] - 0s 34ms/step - loss: 0.0020 - val_loss: 2.2373e-04\n",
            "Epoch 47/100\n",
            "12/12 [==============================] - 0s 39ms/step - loss: 0.0014 - val_loss: 2.2901e-04\n",
            "Epoch 48/100\n",
            "12/12 [==============================] - 0s 18ms/step - loss: 0.0015 - val_loss: 2.3662e-04\n",
            "Epoch 49/100\n",
            "12/12 [==============================] - 0s 18ms/step - loss: 0.0022 - val_loss: 3.5085e-04\n",
            "Epoch 50/100\n",
            "12/12 [==============================] - 0s 18ms/step - loss: 0.0015 - val_loss: 2.1934e-04\n",
            "Epoch 51/100\n",
            "12/12 [==============================] - 0s 18ms/step - loss: 0.0015 - val_loss: 1.9326e-04\n",
            "Epoch 52/100\n",
            "12/12 [==============================] - 0s 22ms/step - loss: 0.0014 - val_loss: 2.0320e-04\n",
            "Epoch 53/100\n",
            "12/12 [==============================] - 0s 28ms/step - loss: 0.0014 - val_loss: 2.0223e-04\n",
            "Epoch 54/100\n",
            "12/12 [==============================] - 1s 44ms/step - loss: 0.0017 - val_loss: 2.1897e-04\n",
            "Epoch 55/100\n",
            "12/12 [==============================] - 0s 39ms/step - loss: 0.0014 - val_loss: 2.0023e-04\n",
            "Epoch 56/100\n",
            "12/12 [==============================] - 1s 44ms/step - loss: 0.0014 - val_loss: 1.9966e-04\n",
            "Epoch 57/100\n",
            "12/12 [==============================] - 1s 55ms/step - loss: 0.0015 - val_loss: 2.4969e-04\n",
            "Epoch 58/100\n",
            "12/12 [==============================] - 0s 33ms/step - loss: 0.0018 - val_loss: 2.5023e-04\n",
            "Epoch 59/100\n",
            "12/12 [==============================] - 0s 29ms/step - loss: 0.0019 - val_loss: 2.4727e-04\n",
            "Epoch 60/100\n",
            "12/12 [==============================] - 0s 28ms/step - loss: 0.0016 - val_loss: 3.1955e-04\n",
            "Epoch 61/100\n",
            "12/12 [==============================] - 0s 18ms/step - loss: 0.0014 - val_loss: 2.0126e-04\n",
            "Epoch 62/100\n",
            "12/12 [==============================] - 0s 18ms/step - loss: 0.0016 - val_loss: 2.0406e-04\n",
            "Epoch 63/100\n",
            "12/12 [==============================] - 0s 20ms/step - loss: 0.0015 - val_loss: 1.9283e-04\n",
            "Epoch 64/100\n",
            "12/12 [==============================] - 0s 18ms/step - loss: 0.0013 - val_loss: 7.6708e-04\n",
            "Epoch 65/100\n",
            "12/12 [==============================] - 0s 18ms/step - loss: 0.0025 - val_loss: 3.9624e-04\n",
            "Epoch 66/100\n",
            "12/12 [==============================] - 0s 18ms/step - loss: 0.0023 - val_loss: 1.9824e-04\n",
            "Epoch 67/100\n",
            "12/12 [==============================] - 0s 20ms/step - loss: 0.0017 - val_loss: 2.1874e-04\n",
            "Epoch 68/100\n",
            "12/12 [==============================] - 0s 18ms/step - loss: 0.0014 - val_loss: 1.9471e-04\n",
            "Epoch 69/100\n",
            "12/12 [==============================] - 0s 18ms/step - loss: 0.0014 - val_loss: 1.9175e-04\n",
            "Epoch 70/100\n",
            "12/12 [==============================] - 0s 19ms/step - loss: 0.0014 - val_loss: 2.5055e-04\n",
            "Epoch 71/100\n",
            "12/12 [==============================] - 0s 18ms/step - loss: 0.0021 - val_loss: 5.0541e-04\n",
            "Epoch 72/100\n",
            "12/12 [==============================] - 0s 19ms/step - loss: 0.0023 - val_loss: 4.1078e-04\n",
            "Epoch 73/100\n",
            "12/12 [==============================] - 0s 21ms/step - loss: 0.0026 - val_loss: 2.2814e-04\n",
            "Epoch 74/100\n",
            "12/12 [==============================] - 0s 29ms/step - loss: 0.0021 - val_loss: 3.8212e-04\n",
            "Epoch 75/100\n",
            "12/12 [==============================] - 0s 30ms/step - loss: 0.0015 - val_loss: 1.8909e-04\n",
            "Epoch 76/100\n",
            "12/12 [==============================] - 0s 31ms/step - loss: 0.0017 - val_loss: 1.9611e-04\n",
            "Epoch 77/100\n",
            "12/12 [==============================] - 0s 18ms/step - loss: 0.0013 - val_loss: 2.7970e-04\n",
            "Epoch 78/100\n",
            "12/12 [==============================] - 0s 17ms/step - loss: 0.0020 - val_loss: 0.0011\n",
            "Epoch 79/100\n",
            "12/12 [==============================] - 0s 20ms/step - loss: 0.0026 - val_loss: 2.8713e-04\n",
            "Epoch 80/100\n",
            "12/12 [==============================] - 0s 18ms/step - loss: 0.0018 - val_loss: 2.1770e-04\n",
            "Epoch 81/100\n",
            "12/12 [==============================] - 0s 19ms/step - loss: 0.0016 - val_loss: 1.8237e-04\n",
            "Epoch 82/100\n",
            "12/12 [==============================] - 0s 18ms/step - loss: 0.0020 - val_loss: 1.9458e-04\n",
            "Epoch 83/100\n",
            "12/12 [==============================] - 0s 18ms/step - loss: 0.0019 - val_loss: 2.0671e-04\n",
            "Epoch 84/100\n",
            "12/12 [==============================] - 0s 18ms/step - loss: 0.0014 - val_loss: 1.7798e-04\n",
            "Epoch 85/100\n",
            "12/12 [==============================] - 0s 19ms/step - loss: 0.0018 - val_loss: 1.7907e-04\n",
            "Epoch 86/100\n",
            "12/12 [==============================] - 0s 26ms/step - loss: 0.0014 - val_loss: 2.3610e-04\n",
            "Epoch 87/100\n",
            "12/12 [==============================] - 0s 32ms/step - loss: 0.0012 - val_loss: 1.8090e-04\n",
            "Epoch 88/100\n",
            "12/12 [==============================] - 0s 27ms/step - loss: 0.0014 - val_loss: 4.3537e-04\n",
            "Epoch 89/100\n",
            "12/12 [==============================] - 0s 21ms/step - loss: 0.0016 - val_loss: 2.7469e-04\n",
            "Epoch 90/100\n",
            "12/12 [==============================] - 0s 18ms/step - loss: 0.0015 - val_loss: 3.7723e-04\n",
            "Epoch 91/100\n",
            "12/12 [==============================] - 0s 19ms/step - loss: 0.0018 - val_loss: 1.9044e-04\n",
            "Epoch 92/100\n",
            "12/12 [==============================] - 0s 18ms/step - loss: 0.0012 - val_loss: 1.7970e-04\n",
            "Epoch 93/100\n",
            "12/12 [==============================] - 0s 20ms/step - loss: 0.0011 - val_loss: 1.8804e-04\n",
            "Epoch 94/100\n",
            "12/12 [==============================] - 0s 34ms/step - loss: 0.0014 - val_loss: 3.0777e-04\n",
            "Epoch 95/100\n",
            "12/12 [==============================] - 0s 39ms/step - loss: 0.0025 - val_loss: 6.5260e-04\n",
            "Epoch 96/100\n",
            "12/12 [==============================] - 1s 58ms/step - loss: 0.0017 - val_loss: 1.7957e-04\n",
            "Epoch 97/100\n",
            "12/12 [==============================] - 1s 61ms/step - loss: 0.0012 - val_loss: 1.8003e-04\n",
            "Epoch 98/100\n",
            "12/12 [==============================] - 0s 29ms/step - loss: 0.0015 - val_loss: 1.8364e-04\n",
            "Epoch 99/100\n",
            "12/12 [==============================] - 0s 24ms/step - loss: 0.0014 - val_loss: 3.1988e-04\n",
            "Epoch 100/100\n",
            "12/12 [==============================] - 0s 19ms/step - loss: 0.0013 - val_loss: 1.8555e-04\n"
          ]
        },
        {
          "output_type": "execute_result",
          "data": {
            "text/plain": [
              "<keras.src.callbacks.History at 0x7b8d580dcb80>"
            ]
          },
          "metadata": {},
          "execution_count": 35
        }
      ]
    },
    {
      "cell_type": "code",
      "source": [
        "import tensorflow as tf"
      ],
      "metadata": {
        "id": "rpEsfuDngLoO"
      },
      "execution_count": 36,
      "outputs": []
    },
    {
      "cell_type": "code",
      "source": [
        "tf.__version__"
      ],
      "metadata": {
        "colab": {
          "base_uri": "https://localhost:8080/",
          "height": 36
        },
        "id": "y9wFmMTtgQHW",
        "outputId": "5827e1a8-72dc-483b-fc47-051f03045a18"
      },
      "execution_count": 37,
      "outputs": [
        {
          "output_type": "execute_result",
          "data": {
            "text/plain": [
              "'2.15.0'"
            ],
            "application/vnd.google.colaboratory.intrinsic+json": {
              "type": "string"
            }
          },
          "metadata": {},
          "execution_count": 37
        }
      ]
    },
    {
      "cell_type": "code",
      "source": [
        "### Lets Do the prediction and check performance metrics\n",
        "train_predict=model.predict(X_train)\n",
        "test_predict=model.predict(X_test)"
      ],
      "metadata": {
        "colab": {
          "base_uri": "https://localhost:8080/"
        },
        "id": "PwcYFL20gRiX",
        "outputId": "568c770c-cd78-473e-eeb3-811d6bae5d6e"
      },
      "execution_count": 38,
      "outputs": [
        {
          "output_type": "stream",
          "name": "stdout",
          "text": [
            "23/23 [==============================] - 1s 9ms/step\n",
            "11/11 [==============================] - 0s 6ms/step\n"
          ]
        }
      ]
    },
    {
      "cell_type": "code",
      "source": [
        "##Transformback to original form\n",
        "train_predict=scaler.inverse_transform(train_predict)\n",
        "test_predict=scaler.inverse_transform(test_predict)"
      ],
      "metadata": {
        "id": "gV-gQ6v5gTqR"
      },
      "execution_count": 39,
      "outputs": []
    },
    {
      "cell_type": "code",
      "source": [
        "### Calculate RMSE performance metrics\n",
        "import math\n",
        "from sklearn.metrics import mean_squared_error\n",
        "math.sqrt(mean_squared_error(y_train,train_predict))"
      ],
      "metadata": {
        "colab": {
          "base_uri": "https://localhost:8080/"
        },
        "id": "s5e50tJIgWfB",
        "outputId": "ac2e44f3-3255-4b8e-bae5-acde36d86533"
      },
      "execution_count": 40,
      "outputs": [
        {
          "output_type": "execute_result",
          "data": {
            "text/plain": [
              "220.21777327071345"
            ]
          },
          "metadata": {},
          "execution_count": 40
        }
      ]
    },
    {
      "cell_type": "code",
      "source": [
        "### Test Data RMSE\n",
        "math.sqrt(mean_squared_error(ytest,test_predict))"
      ],
      "metadata": {
        "colab": {
          "base_uri": "https://localhost:8080/"
        },
        "id": "Jfa7tyfwgbNJ",
        "outputId": "d223320a-7e91-4b8f-fb44-962ddcd01cad"
      },
      "execution_count": 41,
      "outputs": [
        {
          "output_type": "execute_result",
          "data": {
            "text/plain": [
              "173.37122030515306"
            ]
          },
          "metadata": {},
          "execution_count": 41
        }
      ]
    },
    {
      "cell_type": "code",
      "source": [
        "### Plotting\n",
        "# shift train predictions for plotting\n",
        "look_back=100\n",
        "trainPredictPlot = numpy.empty_like(df1)\n",
        "trainPredictPlot[:, :] = np.nan\n",
        "trainPredictPlot[look_back:len(train_predict)+look_back, :] = train_predict\n",
        "# shift test predictions for plotting\n",
        "testPredictPlot = numpy.empty_like(df1)\n",
        "testPredictPlot[:, :] = numpy.nan\n",
        "testPredictPlot[len(train_predict)+(look_back*2)+1:len(df1)-1, :] = test_predict\n",
        "# plot baseline and predictions\n",
        "plt.plot(scaler.inverse_transform(df1))\n",
        "plt.plot(trainPredictPlot)\n",
        "plt.plot(testPredictPlot)\n",
        "plt.show()"
      ],
      "metadata": {
        "colab": {
          "base_uri": "https://localhost:8080/",
          "height": 430
        },
        "id": "XKxvOfB4giAS",
        "outputId": "93206f65-2da1-4041-cffe-2b7b829fac09"
      },
      "execution_count": 42,
      "outputs": [
        {
          "output_type": "display_data",
          "data": {
            "text/plain": [
              "<Figure size 640x480 with 1 Axes>"
            ],
            "image/png": "[encoded data removed]"
          },
          "metadata": {}
        }
      ]
    },
    {
      "cell_type": "code",
      "source": [
        "len(test_data)"
      ],
      "metadata": {
        "colab": {
          "base_uri": "https://localhost:8080/"
        },
        "id": "HqksffJFgkBb",
        "outputId": "8e727051-9c68-43fe-f1c5-8fce90f5a5a8"
      },
      "execution_count": 43,
      "outputs": [
        {
          "output_type": "execute_result",
          "data": {
            "text/plain": [
              "440"
            ]
          },
          "metadata": {},
          "execution_count": 43
        }
      ]
    },
    {
      "cell_type": "code",
      "source": [
        "x_input=test_data[340:].reshape(1,-1)\n",
        "x_input.shape"
      ],
      "metadata": {
        "colab": {
          "base_uri": "https://localhost:8080/"
        },
        "id": "pt1CfHfAgn-h",
        "outputId": "48497676-5e86-46b9-f3b2-d364ac25277a"
      },
      "execution_count": 49,
      "outputs": [
        {
          "output_type": "execute_result",
          "data": {
            "text/plain": [
              "(1, 100)"
            ]
          },
          "metadata": {},
          "execution_count": 49
        }
      ]
    },
    {
      "cell_type": "code",
      "source": [
        "temp_input=list(x_input)\n",
        "temp_input=temp_input[0].tolist()"
      ],
      "metadata": {
        "id": "mSSo7CjcgpLz"
      },
      "execution_count": 50,
      "outputs": []
    },
    {
      "cell_type": "code",
      "source": [
        "# demonstrate prediction for next 10 days\n",
        "from numpy import array\n",
        "\n",
        "lst_output=[]\n",
        "n_steps=100\n",
        "i=0\n",
        "while(i<30):\n",
        "\n",
        "    if(len(temp_input)>100):\n",
        "        #print(temp_input)\n",
        "        x_input=np.array(temp_input[1:])\n",
        "        print(\"{} day input {}\".format(i,x_input))\n",
        "        x_input=x_input.reshape(1,-1)\n",
        "        x_input = x_input.reshape((1, n_steps, 1))\n",
        "        #print(x_input)\n",
        "        yhat = model.predict(x_input, verbose=0)\n",
        "        print(\"{} day output {}\".format(i,yhat))\n",
        "        temp_input.extend(yhat[0].tolist())\n",
        "        temp_input=temp_input[1:]\n",
        "        #print(temp_input)\n",
        "        lst_output.extend(yhat.tolist())\n",
        "        i=i+1\n",
        "    else:\n",
        "        x_input = x_input.reshape((1, n_steps,1))\n",
        "        yhat = model.predict(x_input, verbose=0)\n",
        "        print(yhat[0])\n",
        "        temp_input.extend(yhat[0].tolist())\n",
        "        print(len(temp_input))\n",
        "        lst_output.extend(yhat.tolist())\n",
        "        i=i+1\n",
        "\n",
        "\n",
        "print(lst_output)"
      ],
      "metadata": {
        "colab": {
          "base_uri": "https://localhost:8080/"
        },
        "id": "QJmWbMMegsQI",
        "outputId": "7af555a4-74ee-4554-ae81-4e496964d825"
      },
      "execution_count": 51,
      "outputs": [
        {
          "output_type": "stream",
          "name": "stdout",
          "text": [
            "[0.16936351]\n",
            "101\n",
            "1 day input [0.17485285 0.18131497 0.18780213 0.19048215 0.1892799  0.19927364\n",
            " 0.19526612 0.20187852 0.2033062  0.20756418 0.20751409 0.21192235\n",
            " 0.20989355 0.2115717  0.2082154  0.20776456 0.20929242 0.20671259\n",
            " 0.20816531 0.21139637 0.20686287 0.21685661 0.21410144 0.2189856\n",
            " 0.22259236 0.21625548 0.22008766 0.22822793 0.22860363 0.2272511\n",
            " 0.22304321 0.22567314 0.22038823 0.22001252 0.21730745 0.21592987\n",
            " 0.21618034 0.21725736 0.21462743 0.19737007 0.19388854 0.18802755\n",
            " 0.18619912 0.19716969 0.19611772 0.19874765 0.19724483 0.19807138\n",
            " 0.19233563 0.18995617 0.20485911 0.21219787 0.21803381 0.22126487\n",
            " 0.21956168 0.21873513 0.21435191 0.21262367 0.20338134 0.19426425\n",
            " 0.2004258  0.19789606 0.20247965 0.20653726 0.20681277 0.20408265\n",
            " 0.20541014 0.20115216 0.19586725 0.19363807 0.19291171 0.18902943\n",
            " 0.18715091 0.18905448 0.1941891  0.18955542 0.18614903 0.18983093\n",
            " 0.18680025 0.1851221  0.18239198 0.17097057 0.15849718 0.15599249\n",
            " 0.15569192 0.16002505 0.16508453 0.16628679 0.16102693 0.16571071\n",
            " 0.16475892 0.16751409 0.17342517 0.17991234 0.16162805 0.16390733\n",
            " 0.16032561 0.15747026 0.16648716 0.16936351]\n",
            "1 day output [[0.1693325]]\n",
            "2 day input [0.18131497 0.18780213 0.19048215 0.1892799  0.19927364 0.19526612\n",
            " 0.20187852 0.2033062  0.20756418 0.20751409 0.21192235 0.20989355\n",
            " 0.2115717  0.2082154  0.20776456 0.20929242 0.20671259 0.20816531\n",
            " 0.21139637 0.20686287 0.21685661 0.21410144 0.2189856  0.22259236\n",
            " 0.21625548 0.22008766 0.22822793 0.22860363 0.2272511  0.22304321\n",
            " 0.22567314 0.22038823 0.22001252 0.21730745 0.21592987 0.21618034\n",
            " 0.21725736 0.21462743 0.19737007 0.19388854 0.18802755 0.18619912\n",
            " 0.19716969 0.19611772 0.19874765 0.19724483 0.19807138 0.19233563\n",
            " 0.18995617 0.20485911 0.21219787 0.21803381 0.22126487 0.21956168\n",
            " 0.21873513 0.21435191 0.21262367 0.20338134 0.19426425 0.2004258\n",
            " 0.19789606 0.20247965 0.20653726 0.20681277 0.20408265 0.20541014\n",
            " 0.20115216 0.19586725 0.19363807 0.19291171 0.18902943 0.18715091\n",
            " 0.18905448 0.1941891  0.18955542 0.18614903 0.18983093 0.18680025\n",
            " 0.1851221  0.18239198 0.17097057 0.15849718 0.15599249 0.15569192\n",
            " 0.16002505 0.16508453 0.16628679 0.16102693 0.16571071 0.16475892\n",
            " 0.16751409 0.17342517 0.17991234 0.16162805 0.16390733 0.16032561\n",
            " 0.15747026 0.16648716 0.16936351 0.1693325 ]\n",
            "2 day output [[0.16944617]]\n",
            "3 day input [0.18780213 0.19048215 0.1892799  0.19927364 0.19526612 0.20187852\n",
            " 0.2033062  0.20756418 0.20751409 0.21192235 0.20989355 0.2115717\n",
            " 0.2082154  0.20776456 0.20929242 0.20671259 0.20816531 0.21139637\n",
            " 0.20686287 0.21685661 0.21410144 0.2189856  0.22259236 0.21625548\n",
            " 0.22008766 0.22822793 0.22860363 0.2272511  0.22304321 0.22567314\n",
            " 0.22038823 0.22001252 0.21730745 0.21592987 0.21618034 0.21725736\n",
            " 0.21462743 0.19737007 0.19388854 0.18802755 0.18619912 0.19716969\n",
            " 0.19611772 0.19874765 0.19724483 0.19807138 0.19233563 0.18995617\n",
            " 0.20485911 0.21219787 0.21803381 0.22126487 0.21956168 0.21873513\n",
            " 0.21435191 0.21262367 0.20338134 0.19426425 0.2004258  0.19789606\n",
            " 0.20247965 0.20653726 0.20681277 0.20408265 0.20541014 0.20115216\n",
            " 0.19586725 0.19363807 0.19291171 0.18902943 0.18715091 0.18905448\n",
            " 0.1941891  0.18955542 0.18614903 0.18983093 0.18680025 0.1851221\n",
            " 0.18239198 0.17097057 0.15849718 0.15599249 0.15569192 0.16002505\n",
            " 0.16508453 0.16628679 0.16102693 0.16571071 0.16475892 0.16751409\n",
            " 0.17342517 0.17991234 0.16162805 0.16390733 0.16032561 0.15747026\n",
            " 0.16648716 0.16936351 0.1693325  0.16944617]\n",
            "3 day output [[0.16970575]]\n",
            "4 day input [0.19048215 0.1892799  0.19927364 0.19526612 0.20187852 0.2033062\n",
            " 0.20756418 0.20751409 0.21192235 0.20989355 0.2115717  0.2082154\n",
            " 0.20776456 0.20929242 0.20671259 0.20816531 0.21139637 0.20686287\n",
            " 0.21685661 0.21410144 0.2189856  0.22259236 0.21625548 0.22008766\n",
            " 0.22822793 0.22860363 0.2272511  0.22304321 0.22567314 0.22038823\n",
            " 0.22001252 0.21730745 0.21592987 0.21618034 0.21725736 0.21462743\n",
            " 0.19737007 0.19388854 0.18802755 0.18619912 0.19716969 0.19611772\n",
            " 0.19874765 0.19724483 0.19807138 0.19233563 0.18995617 0.20485911\n",
            " 0.21219787 0.21803381 0.22126487 0.21956168 0.21873513 0.21435191\n",
            " 0.21262367 0.20338134 0.19426425 0.2004258  0.19789606 0.20247965\n",
            " 0.20653726 0.20681277 0.20408265 0.20541014 0.20115216 0.19586725\n",
            " 0.19363807 0.19291171 0.18902943 0.18715091 0.18905448 0.1941891\n",
            " 0.18955542 0.18614903 0.18983093 0.18680025 0.1851221  0.18239198\n",
            " 0.17097057 0.15849718 0.15599249 0.15569192 0.16002505 0.16508453\n",
            " 0.16628679 0.16102693 0.16571071 0.16475892 0.16751409 0.17342517\n",
            " 0.17991234 0.16162805 0.16390733 0.16032561 0.15747026 0.16648716\n",
            " 0.16936351 0.1693325  0.16944617 0.16970575]\n",
            "4 day output [[0.17008546]]\n",
            "5 day input [0.1892799  0.19927364 0.19526612 0.20187852 0.2033062  0.20756418\n",
            " 0.20751409 0.21192235 0.20989355 0.2115717  0.2082154  0.20776456\n",
            " 0.20929242 0.20671259 0.20816531 0.21139637 0.20686287 0.21685661\n",
            " 0.21410144 0.2189856  0.22259236 0.21625548 0.22008766 0.22822793\n",
            " 0.22860363 0.2272511  0.22304321 0.22567314 0.22038823 0.22001252\n",
            " 0.21730745 0.21592987 0.21618034 0.21725736 0.21462743 0.19737007\n",
            " 0.19388854 0.18802755 0.18619912 0.19716969 0.19611772 0.19874765\n",
            " 0.19724483 0.19807138 0.19233563 0.18995617 0.20485911 0.21219787\n",
            " 0.21803381 0.22126487 0.21956168 0.21873513 0.21435191 0.21262367\n",
            " 0.20338134 0.19426425 0.2004258  0.19789606 0.20247965 0.20653726\n",
            " 0.20681277 0.20408265 0.20541014 0.20115216 0.19586725 0.19363807\n",
            " 0.19291171 0.18902943 0.18715091 0.18905448 0.1941891  0.18955542\n",
            " 0.18614903 0.18983093 0.18680025 0.1851221  0.18239198 0.17097057\n",
            " 0.15849718 0.15599249 0.15569192 0.16002505 0.16508453 0.16628679\n",
            " 0.16102693 0.16571071 0.16475892 0.16751409 0.17342517 0.17991234\n",
            " 0.16162805 0.16390733 0.16032561 0.15747026 0.16648716 0.16936351\n",
            " 0.1693325  0.16944617 0.16970575 0.17008546]\n",
            "5 day output [[0.17055391]]\n",
            "6 day input [0.19927364 0.19526612 0.20187852 0.2033062  0.20756418 0.20751409\n",
            " 0.21192235 0.20989355 0.2115717  0.2082154  0.20776456 0.20929242\n",
            " 0.20671259 0.20816531 0.21139637 0.20686287 0.21685661 0.21410144\n",
            " 0.2189856  0.22259236 0.21625548 0.22008766 0.22822793 0.22860363\n",
            " 0.2272511  0.22304321 0.22567314 0.22038823 0.22001252 0.21730745\n",
            " 0.21592987 0.21618034 0.21725736 0.21462743 0.19737007 0.19388854\n",
            " 0.18802755 0.18619912 0.19716969 0.19611772 0.19874765 0.19724483\n",
            " 0.19807138 0.19233563 0.18995617 0.20485911 0.21219787 0.21803381\n",
            " 0.22126487 0.21956168 0.21873513 0.21435191 0.21262367 0.20338134\n",
            " 0.19426425 0.2004258  0.19789606 0.20247965 0.20653726 0.20681277\n",
            " 0.20408265 0.20541014 0.20115216 0.19586725 0.19363807 0.19291171\n",
            " 0.18902943 0.18715091 0.18905448 0.1941891  0.18955542 0.18614903\n",
            " 0.18983093 0.18680025 0.1851221  0.18239198 0.17097057 0.15849718\n",
            " 0.15599249 0.15569192 0.16002505 0.16508453 0.16628679 0.16102693\n",
            " 0.16571071 0.16475892 0.16751409 0.17342517 0.17991234 0.16162805\n",
            " 0.16390733 0.16032561 0.15747026 0.16648716 0.16936351 0.1693325\n",
            " 0.16944617 0.16970575 0.17008546 0.17055391]\n",
            "6 day output [[0.17108318]]\n",
            "7 day input [0.19526612 0.20187852 0.2033062  0.20756418 0.20751409 0.21192235\n",
            " 0.20989355 0.2115717  0.2082154  0.20776456 0.20929242 0.20671259\n",
            " 0.20816531 0.21139637 0.20686287 0.21685661 0.21410144 0.2189856\n",
            " 0.22259236 0.21625548 0.22008766 0.22822793 0.22860363 0.2272511\n",
            " 0.22304321 0.22567314 0.22038823 0.22001252 0.21730745 0.21592987\n",
            " 0.21618034 0.21725736 0.21462743 0.19737007 0.19388854 0.18802755\n",
            " 0.18619912 0.19716969 0.19611772 0.19874765 0.19724483 0.19807138\n",
            " 0.19233563 0.18995617 0.20485911 0.21219787 0.21803381 0.22126487\n",
            " 0.21956168 0.21873513 0.21435191 0.21262367 0.20338134 0.19426425\n",
            " 0.2004258  0.19789606 0.20247965 0.20653726 0.20681277 0.20408265\n",
            " 0.20541014 0.20115216 0.19586725 0.19363807 0.19291171 0.18902943\n",
            " 0.18715091 0.18905448 0.1941891  0.18955542 0.18614903 0.18983093\n",
            " 0.18680025 0.1851221  0.18239198 0.17097057 0.15849718 0.15599249\n",
            " 0.15569192 0.16002505 0.16508453 0.16628679 0.16102693 0.16571071\n",
            " 0.16475892 0.16751409 0.17342517 0.17991234 0.16162805 0.16390733\n",
            " 0.16032561 0.15747026 0.16648716 0.16936351 0.1693325  0.16944617\n",
            " 0.16970575 0.17008546 0.17055391 0.17108318]\n",
            "7 day output [[0.17165174]]\n",
            "8 day input [0.20187852 0.2033062  0.20756418 0.20751409 0.21192235 0.20989355\n",
            " 0.2115717  0.2082154  0.20776456 0.20929242 0.20671259 0.20816531\n",
            " 0.21139637 0.20686287 0.21685661 0.21410144 0.2189856  0.22259236\n",
            " 0.21625548 0.22008766 0.22822793 0.22860363 0.2272511  0.22304321\n",
            " 0.22567314 0.22038823 0.22001252 0.21730745 0.21592987 0.21618034\n",
            " 0.21725736 0.21462743 0.19737007 0.19388854 0.18802755 0.18619912\n",
            " 0.19716969 0.19611772 0.19874765 0.19724483 0.19807138 0.19233563\n",
            " 0.18995617 0.20485911 0.21219787 0.21803381 0.22126487 0.21956168\n",
            " 0.21873513 0.21435191 0.21262367 0.20338134 0.19426425 0.2004258\n",
            " 0.19789606 0.20247965 0.20653726 0.20681277 0.20408265 0.20541014\n",
            " 0.20115216 0.19586725 0.19363807 0.19291171 0.18902943 0.18715091\n",
            " 0.18905448 0.1941891  0.18955542 0.18614903 0.18983093 0.18680025\n",
            " 0.1851221  0.18239198 0.17097057 0.15849718 0.15599249 0.15569192\n",
            " 0.16002505 0.16508453 0.16628679 0.16102693 0.16571071 0.16475892\n",
            " 0.16751409 0.17342517 0.17991234 0.16162805 0.16390733 0.16032561\n",
            " 0.15747026 0.16648716 0.16936351 0.1693325  0.16944617 0.16970575\n",
            " 0.17008546 0.17055391 0.17108318 0.17165174]\n",
            "8 day output [[0.17224434]]\n",
            "9 day input [0.2033062  0.20756418 0.20751409 0.21192235 0.20989355 0.2115717\n",
            " 0.2082154  0.20776456 0.20929242 0.20671259 0.20816531 0.21139637\n",
            " 0.20686287 0.21685661 0.21410144 0.2189856  0.22259236 0.21625548\n",
            " 0.22008766 0.22822793 0.22860363 0.2272511  0.22304321 0.22567314\n",
            " 0.22038823 0.22001252 0.21730745 0.21592987 0.21618034 0.21725736\n",
            " 0.21462743 0.19737007 0.19388854 0.18802755 0.18619912 0.19716969\n",
            " 0.19611772 0.19874765 0.19724483 0.19807138 0.19233563 0.18995617\n",
            " 0.20485911 0.21219787 0.21803381 0.22126487 0.21956168 0.21873513\n",
            " 0.21435191 0.21262367 0.20338134 0.19426425 0.2004258  0.19789606\n",
            " 0.20247965 0.20653726 0.20681277 0.20408265 0.20541014 0.20115216\n",
            " 0.19586725 0.19363807 0.19291171 0.18902943 0.18715091 0.18905448\n",
            " 0.1941891  0.18955542 0.18614903 0.18983093 0.18680025 0.1851221\n",
            " 0.18239198 0.17097057 0.15849718 0.15599249 0.15569192 0.16002505\n",
            " 0.16508453 0.16628679 0.16102693 0.16571071 0.16475892 0.16751409\n",
            " 0.17342517 0.17991234 0.16162805 0.16390733 0.16032561 0.15747026\n",
            " 0.16648716 0.16936351 0.1693325  0.16944617 0.16970575 0.17008546\n",
            " 0.17055391 0.17108318 0.17165174 0.17224434]\n",
            "9 day output [[0.1728509]]\n",
            "10 day input [0.20756418 0.20751409 0.21192235 0.20989355 0.2115717  0.2082154\n",
            " 0.20776456 0.20929242 0.20671259 0.20816531 0.21139637 0.20686287\n",
            " 0.21685661 0.21410144 0.2189856  0.22259236 0.21625548 0.22008766\n",
            " 0.22822793 0.22860363 0.2272511  0.22304321 0.22567314 0.22038823\n",
            " 0.22001252 0.21730745 0.21592987 0.21618034 0.21725736 0.21462743\n",
            " 0.19737007 0.19388854 0.18802755 0.18619912 0.19716969 0.19611772\n",
            " 0.19874765 0.19724483 0.19807138 0.19233563 0.18995617 0.20485911\n",
            " 0.21219787 0.21803381 0.22126487 0.21956168 0.21873513 0.21435191\n",
            " 0.21262367 0.20338134 0.19426425 0.2004258  0.19789606 0.20247965\n",
            " 0.20653726 0.20681277 0.20408265 0.20541014 0.20115216 0.19586725\n",
            " 0.19363807 0.19291171 0.18902943 0.18715091 0.18905448 0.1941891\n",
            " 0.18955542 0.18614903 0.18983093 0.18680025 0.1851221  0.18239198\n",
            " 0.17097057 0.15849718 0.15599249 0.15569192 0.16002505 0.16508453\n",
            " 0.16628679 0.16102693 0.16571071 0.16475892 0.16751409 0.17342517\n",
            " 0.17991234 0.16162805 0.16390733 0.16032561 0.15747026 0.16648716\n",
            " 0.16936351 0.1693325  0.16944617 0.16970575 0.17008546 0.17055391\n",
            " 0.17108318 0.17165174 0.17224434 0.17285091]\n",
            "10 day output [[0.17346528]]\n",
            "11 day input [0.20751409 0.21192235 0.20989355 0.2115717  0.2082154  0.20776456\n",
            " 0.20929242 0.20671259 0.20816531 0.21139637 0.20686287 0.21685661\n",
            " 0.21410144 0.2189856  0.22259236 0.21625548 0.22008766 0.22822793\n",
            " 0.22860363 0.2272511  0.22304321 0.22567314 0.22038823 0.22001252\n",
            " 0.21730745 0.21592987 0.21618034 0.21725736 0.21462743 0.19737007\n",
            " 0.19388854 0.18802755 0.18619912 0.19716969 0.19611772 0.19874765\n",
            " 0.19724483 0.19807138 0.19233563 0.18995617 0.20485911 0.21219787\n",
            " 0.21803381 0.22126487 0.21956168 0.21873513 0.21435191 0.21262367\n",
            " 0.20338134 0.19426425 0.2004258  0.19789606 0.20247965 0.20653726\n",
            " 0.20681277 0.20408265 0.20541014 0.20115216 0.19586725 0.19363807\n",
            " 0.19291171 0.18902943 0.18715091 0.18905448 0.1941891  0.18955542\n",
            " 0.18614903 0.18983093 0.18680025 0.1851221  0.18239198 0.17097057\n",
            " 0.15849718 0.15599249 0.15569192 0.16002505 0.16508453 0.16628679\n",
            " 0.16102693 0.16571071 0.16475892 0.16751409 0.17342517 0.17991234\n",
            " 0.16162805 0.16390733 0.16032561 0.15747026 0.16648716 0.16936351\n",
            " 0.1693325  0.16944617 0.16970575 0.17008546 0.17055391 0.17108318\n",
            " 0.17165174 0.17224434 0.17285091 0.17346528]\n",
            "11 day output [[0.17408392]]\n",
            "12 day input [0.21192235 0.20989355 0.2115717  0.2082154  0.20776456 0.20929242\n",
            " 0.20671259 0.20816531 0.21139637 0.20686287 0.21685661 0.21410144\n",
            " 0.2189856  0.22259236 0.21625548 0.22008766 0.22822793 0.22860363\n",
            " 0.2272511  0.22304321 0.22567314 0.22038823 0.22001252 0.21730745\n",
            " 0.21592987 0.21618034 0.21725736 0.21462743 0.19737007 0.19388854\n",
            " 0.18802755 0.18619912 0.19716969 0.19611772 0.19874765 0.19724483\n",
            " 0.19807138 0.19233563 0.18995617 0.20485911 0.21219787 0.21803381\n",
            " 0.22126487 0.21956168 0.21873513 0.21435191 0.21262367 0.20338134\n",
            " 0.19426425 0.2004258  0.19789606 0.20247965 0.20653726 0.20681277\n",
            " 0.20408265 0.20541014 0.20115216 0.19586725 0.19363807 0.19291171\n",
            " 0.18902943 0.18715091 0.18905448 0.1941891  0.18955542 0.18614903\n",
            " 0.18983093 0.18680025 0.1851221  0.18239198 0.17097057 0.15849718\n",
            " 0.15599249 0.15569192 0.16002505 0.16508453 0.16628679 0.16102693\n",
            " 0.16571071 0.16475892 0.16751409 0.17342517 0.17991234 0.16162805\n",
            " 0.16390733 0.16032561 0.15747026 0.16648716 0.16936351 0.1693325\n",
            " 0.16944617 0.16970575 0.17008546 0.17055391 0.17108318 0.17165174\n",
            " 0.17224434 0.17285091 0.17346528 0.17408392]\n",
            "12 day output [[0.174705]]\n",
            "13 day input [0.20989355 0.2115717  0.2082154  0.20776456 0.20929242 0.20671259\n",
            " 0.20816531 0.21139637 0.20686287 0.21685661 0.21410144 0.2189856\n",
            " 0.22259236 0.21625548 0.22008766 0.22822793 0.22860363 0.2272511\n",
            " 0.22304321 0.22567314 0.22038823 0.22001252 0.21730745 0.21592987\n",
            " 0.21618034 0.21725736 0.21462743 0.19737007 0.19388854 0.18802755\n",
            " 0.18619912 0.19716969 0.19611772 0.19874765 0.19724483 0.19807138\n",
            " 0.19233563 0.18995617 0.20485911 0.21219787 0.21803381 0.22126487\n",
            " 0.21956168 0.21873513 0.21435191 0.21262367 0.20338134 0.19426425\n",
            " 0.2004258  0.19789606 0.20247965 0.20653726 0.20681277 0.20408265\n",
            " 0.20541014 0.20115216 0.19586725 0.19363807 0.19291171 0.18902943\n",
            " 0.18715091 0.18905448 0.1941891  0.18955542 0.18614903 0.18983093\n",
            " 0.18680025 0.1851221  0.18239198 0.17097057 0.15849718 0.15599249\n",
            " 0.15569192 0.16002505 0.16508453 0.16628679 0.16102693 0.16571071\n",
            " 0.16475892 0.16751409 0.17342517 0.17991234 0.16162805 0.16390733\n",
            " 0.16032561 0.15747026 0.16648716 0.16936351 0.1693325  0.16944617\n",
            " 0.16970575 0.17008546 0.17055391 0.17108318 0.17165174 0.17224434\n",
            " 0.17285091 0.17346528 0.17408392 0.174705  ]\n",
            "13 day output [[0.17532773]]\n",
            "14 day input [0.2115717  0.2082154  0.20776456 0.20929242 0.20671259 0.20816531\n",
            " 0.21139637 0.20686287 0.21685661 0.21410144 0.2189856  0.22259236\n",
            " 0.21625548 0.22008766 0.22822793 0.22860363 0.2272511  0.22304321\n",
            " 0.22567314 0.22038823 0.22001252 0.21730745 0.21592987 0.21618034\n",
            " 0.21725736 0.21462743 0.19737007 0.19388854 0.18802755 0.18619912\n",
            " 0.19716969 0.19611772 0.19874765 0.19724483 0.19807138 0.19233563\n",
            " 0.18995617 0.20485911 0.21219787 0.21803381 0.22126487 0.21956168\n",
            " 0.21873513 0.21435191 0.21262367 0.20338134 0.19426425 0.2004258\n",
            " 0.19789606 0.20247965 0.20653726 0.20681277 0.20408265 0.20541014\n",
            " 0.20115216 0.19586725 0.19363807 0.19291171 0.18902943 0.18715091\n",
            " 0.18905448 0.1941891  0.18955542 0.18614903 0.18983093 0.18680025\n",
            " 0.1851221  0.18239198 0.17097057 0.15849718 0.15599249 0.15569192\n",
            " 0.16002505 0.16508453 0.16628679 0.16102693 0.16571071 0.16475892\n",
            " 0.16751409 0.17342517 0.17991234 0.16162805 0.16390733 0.16032561\n",
            " 0.15747026 0.16648716 0.16936351 0.1693325  0.16944617 0.16970575\n",
            " 0.17008546 0.17055391 0.17108318 0.17165174 0.17224434 0.17285091\n",
            " 0.17346528 0.17408392 0.174705   0.17532773]\n",
            "14 day output [[0.175952]]\n",
            "15 day input [0.2082154  0.20776456 0.20929242 0.20671259 0.20816531 0.21139637\n",
            " 0.20686287 0.21685661 0.21410144 0.2189856  0.22259236 0.21625548\n",
            " 0.22008766 0.22822793 0.22860363 0.2272511  0.22304321 0.22567314\n",
            " 0.22038823 0.22001252 0.21730745 0.21592987 0.21618034 0.21725736\n",
            " 0.21462743 0.19737007 0.19388854 0.18802755 0.18619912 0.19716969\n",
            " 0.19611772 0.19874765 0.19724483 0.19807138 0.19233563 0.18995617\n",
            " 0.20485911 0.21219787 0.21803381 0.22126487 0.21956168 0.21873513\n",
            " 0.21435191 0.21262367 0.20338134 0.19426425 0.2004258  0.19789606\n",
            " 0.20247965 0.20653726 0.20681277 0.20408265 0.20541014 0.20115216\n",
            " 0.19586725 0.19363807 0.19291171 0.18902943 0.18715091 0.18905448\n",
            " 0.1941891  0.18955542 0.18614903 0.18983093 0.18680025 0.1851221\n",
            " 0.18239198 0.17097057 0.15849718 0.15599249 0.15569192 0.16002505\n",
            " 0.16508453 0.16628679 0.16102693 0.16571071 0.16475892 0.16751409\n",
            " 0.17342517 0.17991234 0.16162805 0.16390733 0.16032561 0.15747026\n",
            " 0.16648716 0.16936351 0.1693325  0.16944617 0.16970575 0.17008546\n",
            " 0.17055391 0.17108318 0.17165174 0.17224434 0.17285091 0.17346528\n",
            " 0.17408392 0.174705   0.17532773 0.175952  ]\n",
            "15 day output [[0.17657799]]\n",
            "16 day input [0.20776456 0.20929242 0.20671259 0.20816531 0.21139637 0.20686287\n",
            " 0.21685661 0.21410144 0.2189856  0.22259236 0.21625548 0.22008766\n",
            " 0.22822793 0.22860363 0.2272511  0.22304321 0.22567314 0.22038823\n",
            " 0.22001252 0.21730745 0.21592987 0.21618034 0.21725736 0.21462743\n",
            " 0.19737007 0.19388854 0.18802755 0.18619912 0.19716969 0.19611772\n",
            " 0.19874765 0.19724483 0.19807138 0.19233563 0.18995617 0.20485911\n",
            " 0.21219787 0.21803381 0.22126487 0.21956168 0.21873513 0.21435191\n",
            " 0.21262367 0.20338134 0.19426425 0.2004258  0.19789606 0.20247965\n",
            " 0.20653726 0.20681277 0.20408265 0.20541014 0.20115216 0.19586725\n",
            " 0.19363807 0.19291171 0.18902943 0.18715091 0.18905448 0.1941891\n",
            " 0.18955542 0.18614903 0.18983093 0.18680025 0.1851221  0.18239198\n",
            " 0.17097057 0.15849718 0.15599249 0.15569192 0.16002505 0.16508453\n",
            " 0.16628679 0.16102693 0.16571071 0.16475892 0.16751409 0.17342517\n",
            " 0.17991234 0.16162805 0.16390733 0.16032561 0.15747026 0.16648716\n",
            " 0.16936351 0.1693325  0.16944617 0.16970575 0.17008546 0.17055391\n",
            " 0.17108318 0.17165174 0.17224434 0.17285091 0.17346528 0.17408392\n",
            " 0.174705   0.17532773 0.175952   0.17657799]\n",
            "16 day output [[0.17720596]]\n",
            "17 day input [0.20929242 0.20671259 0.20816531 0.21139637 0.20686287 0.21685661\n",
            " 0.21410144 0.2189856  0.22259236 0.21625548 0.22008766 0.22822793\n",
            " 0.22860363 0.2272511  0.22304321 0.22567314 0.22038823 0.22001252\n",
            " 0.21730745 0.21592987 0.21618034 0.21725736 0.21462743 0.19737007\n",
            " 0.19388854 0.18802755 0.18619912 0.19716969 0.19611772 0.19874765\n",
            " 0.19724483 0.19807138 0.19233563 0.18995617 0.20485911 0.21219787\n",
            " 0.21803381 0.22126487 0.21956168 0.21873513 0.21435191 0.21262367\n",
            " 0.20338134 0.19426425 0.2004258  0.19789606 0.20247965 0.20653726\n",
            " 0.20681277 0.20408265 0.20541014 0.20115216 0.19586725 0.19363807\n",
            " 0.19291171 0.18902943 0.18715091 0.18905448 0.1941891  0.18955542\n",
            " 0.18614903 0.18983093 0.18680025 0.1851221  0.18239198 0.17097057\n",
            " 0.15849718 0.15599249 0.15569192 0.16002505 0.16508453 0.16628679\n",
            " 0.16102693 0.16571071 0.16475892 0.16751409 0.17342517 0.17991234\n",
            " 0.16162805 0.16390733 0.16032561 0.15747026 0.16648716 0.16936351\n",
            " 0.1693325  0.16944617 0.16970575 0.17008546 0.17055391 0.17108318\n",
            " 0.17165174 0.17224434 0.17285091 0.17346528 0.17408392 0.174705\n",
            " 0.17532773 0.175952   0.17657799 0.17720596]\n",
            "17 day output [[0.17783636]]\n",
            "18 day input [0.20671259 0.20816531 0.21139637 0.20686287 0.21685661 0.21410144\n",
            " 0.2189856  0.22259236 0.21625548 0.22008766 0.22822793 0.22860363\n",
            " 0.2272511  0.22304321 0.22567314 0.22038823 0.22001252 0.21730745\n",
            " 0.21592987 0.21618034 0.21725736 0.21462743 0.19737007 0.19388854\n",
            " 0.18802755 0.18619912 0.19716969 0.19611772 0.19874765 0.19724483\n",
            " 0.19807138 0.19233563 0.18995617 0.20485911 0.21219787 0.21803381\n",
            " 0.22126487 0.21956168 0.21873513 0.21435191 0.21262367 0.20338134\n",
            " 0.19426425 0.2004258  0.19789606 0.20247965 0.20653726 0.20681277\n",
            " 0.20408265 0.20541014 0.20115216 0.19586725 0.19363807 0.19291171\n",
            " 0.18902943 0.18715091 0.18905448 0.1941891  0.18955542 0.18614903\n",
            " 0.18983093 0.18680025 0.1851221  0.18239198 0.17097057 0.15849718\n",
            " 0.15599249 0.15569192 0.16002505 0.16508453 0.16628679 0.16102693\n",
            " 0.16571071 0.16475892 0.16751409 0.17342517 0.17991234 0.16162805\n",
            " 0.16390733 0.16032561 0.15747026 0.16648716 0.16936351 0.1693325\n",
            " 0.16944617 0.16970575 0.17008546 0.17055391 0.17108318 0.17165174\n",
            " 0.17224434 0.17285091 0.17346528 0.17408392 0.174705   0.17532773\n",
            " 0.175952   0.17657799 0.17720596 0.17783636]\n",
            "18 day output [[0.17846945]]\n",
            "19 day input [0.20816531 0.21139637 0.20686287 0.21685661 0.21410144 0.2189856\n",
            " 0.22259236 0.21625548 0.22008766 0.22822793 0.22860363 0.2272511\n",
            " 0.22304321 0.22567314 0.22038823 0.22001252 0.21730745 0.21592987\n",
            " 0.21618034 0.21725736 0.21462743 0.19737007 0.19388854 0.18802755\n",
            " 0.18619912 0.19716969 0.19611772 0.19874765 0.19724483 0.19807138\n",
            " 0.19233563 0.18995617 0.20485911 0.21219787 0.21803381 0.22126487\n",
            " 0.21956168 0.21873513 0.21435191 0.21262367 0.20338134 0.19426425\n",
            " 0.2004258  0.19789606 0.20247965 0.20653726 0.20681277 0.20408265\n",
            " 0.20541014 0.20115216 0.19586725 0.19363807 0.19291171 0.18902943\n",
            " 0.18715091 0.18905448 0.1941891  0.18955542 0.18614903 0.18983093\n",
            " 0.18680025 0.1851221  0.18239198 0.17097057 0.15849718 0.15599249\n",
            " 0.15569192 0.16002505 0.16508453 0.16628679 0.16102693 0.16571071\n",
            " 0.16475892 0.16751409 0.17342517 0.17991234 0.16162805 0.16390733\n",
            " 0.16032561 0.15747026 0.16648716 0.16936351 0.1693325  0.16944617\n",
            " 0.16970575 0.17008546 0.17055391 0.17108318 0.17165174 0.17224434\n",
            " 0.17285091 0.17346528 0.17408392 0.174705   0.17532773 0.175952\n",
            " 0.17657799 0.17720596 0.17783636 0.17846945]\n",
            "19 day output [[0.17910558]]\n",
            "20 day input [0.21139637 0.20686287 0.21685661 0.21410144 0.2189856  0.22259236\n",
            " 0.21625548 0.22008766 0.22822793 0.22860363 0.2272511  0.22304321\n",
            " 0.22567314 0.22038823 0.22001252 0.21730745 0.21592987 0.21618034\n",
            " 0.21725736 0.21462743 0.19737007 0.19388854 0.18802755 0.18619912\n",
            " 0.19716969 0.19611772 0.19874765 0.19724483 0.19807138 0.19233563\n",
            " 0.18995617 0.20485911 0.21219787 0.21803381 0.22126487 0.21956168\n",
            " 0.21873513 0.21435191 0.21262367 0.20338134 0.19426425 0.2004258\n",
            " 0.19789606 0.20247965 0.20653726 0.20681277 0.20408265 0.20541014\n",
            " 0.20115216 0.19586725 0.19363807 0.19291171 0.18902943 0.18715091\n",
            " 0.18905448 0.1941891  0.18955542 0.18614903 0.18983093 0.18680025\n",
            " 0.1851221  0.18239198 0.17097057 0.15849718 0.15599249 0.15569192\n",
            " 0.16002505 0.16508453 0.16628679 0.16102693 0.16571071 0.16475892\n",
            " 0.16751409 0.17342517 0.17991234 0.16162805 0.16390733 0.16032561\n",
            " 0.15747026 0.16648716 0.16936351 0.1693325  0.16944617 0.16970575\n",
            " 0.17008546 0.17055391 0.17108318 0.17165174 0.17224434 0.17285091\n",
            " 0.17346528 0.17408392 0.174705   0.17532773 0.175952   0.17657799\n",
            " 0.17720596 0.17783636 0.17846945 0.17910558]\n",
            "20 day output [[0.17974493]]\n",
            "21 day input [0.20686287 0.21685661 0.21410144 0.2189856  0.22259236 0.21625548\n",
            " 0.22008766 0.22822793 0.22860363 0.2272511  0.22304321 0.22567314\n",
            " 0.22038823 0.22001252 0.21730745 0.21592987 0.21618034 0.21725736\n",
            " 0.21462743 0.19737007 0.19388854 0.18802755 0.18619912 0.19716969\n",
            " 0.19611772 0.19874765 0.19724483 0.19807138 0.19233563 0.18995617\n",
            " 0.20485911 0.21219787 0.21803381 0.22126487 0.21956168 0.21873513\n",
            " 0.21435191 0.21262367 0.20338134 0.19426425 0.2004258  0.19789606\n",
            " 0.20247965 0.20653726 0.20681277 0.20408265 0.20541014 0.20115216\n",
            " 0.19586725 0.19363807 0.19291171 0.18902943 0.18715091 0.18905448\n",
            " 0.1941891  0.18955542 0.18614903 0.18983093 0.18680025 0.1851221\n",
            " 0.18239198 0.17097057 0.15849718 0.15599249 0.15569192 0.16002505\n",
            " 0.16508453 0.16628679 0.16102693 0.16571071 0.16475892 0.16751409\n",
            " 0.17342517 0.17991234 0.16162805 0.16390733 0.16032561 0.15747026\n",
            " 0.16648716 0.16936351 0.1693325  0.16944617 0.16970575 0.17008546\n",
            " 0.17055391 0.17108318 0.17165174 0.17224434 0.17285091 0.17346528\n",
            " 0.17408392 0.174705   0.17532773 0.175952   0.17657799 0.17720596\n",
            " 0.17783636 0.17846945 0.17910558 0.17974493]\n",
            "21 day output [[0.18038768]]\n",
            "22 day input [0.21685661 0.21410144 0.2189856  0.22259236 0.21625548 0.22008766\n",
            " 0.22822793 0.22860363 0.2272511  0.22304321 0.22567314 0.22038823\n",
            " 0.22001252 0.21730745 0.21592987 0.21618034 0.21725736 0.21462743\n",
            " 0.19737007 0.19388854 0.18802755 0.18619912 0.19716969 0.19611772\n",
            " 0.19874765 0.19724483 0.19807138 0.19233563 0.18995617 0.20485911\n",
            " 0.21219787 0.21803381 0.22126487 0.21956168 0.21873513 0.21435191\n",
            " 0.21262367 0.20338134 0.19426425 0.2004258  0.19789606 0.20247965\n",
            " 0.20653726 0.20681277 0.20408265 0.20541014 0.20115216 0.19586725\n",
            " 0.19363807 0.19291171 0.18902943 0.18715091 0.18905448 0.1941891\n",
            " 0.18955542 0.18614903 0.18983093 0.18680025 0.1851221  0.18239198\n",
            " 0.17097057 0.15849718 0.15599249 0.15569192 0.16002505 0.16508453\n",
            " 0.16628679 0.16102693 0.16571071 0.16475892 0.16751409 0.17342517\n",
            " 0.17991234 0.16162805 0.16390733 0.16032561 0.15747026 0.16648716\n",
            " 0.16936351 0.1693325  0.16944617 0.16970575 0.17008546 0.17055391\n",
            " 0.17108318 0.17165174 0.17224434 0.17285091 0.17346528 0.17408392\n",
            " 0.174705   0.17532773 0.175952   0.17657799 0.17720596 0.17783636\n",
            " 0.17846945 0.17910558 0.17974493 0.18038768]\n",
            "22 day output [[0.18103388]]\n",
            "23 day input [0.21410144 0.2189856  0.22259236 0.21625548 0.22008766 0.22822793\n",
            " 0.22860363 0.2272511  0.22304321 0.22567314 0.22038823 0.22001252\n",
            " 0.21730745 0.21592987 0.21618034 0.21725736 0.21462743 0.19737007\n",
            " 0.19388854 0.18802755 0.18619912 0.19716969 0.19611772 0.19874765\n",
            " 0.19724483 0.19807138 0.19233563 0.18995617 0.20485911 0.21219787\n",
            " 0.21803381 0.22126487 0.21956168 0.21873513 0.21435191 0.21262367\n",
            " 0.20338134 0.19426425 0.2004258  0.19789606 0.20247965 0.20653726\n",
            " 0.20681277 0.20408265 0.20541014 0.20115216 0.19586725 0.19363807\n",
            " 0.19291171 0.18902943 0.18715091 0.18905448 0.1941891  0.18955542\n",
            " 0.18614903 0.18983093 0.18680025 0.1851221  0.18239198 0.17097057\n",
            " 0.15849718 0.15599249 0.15569192 0.16002505 0.16508453 0.16628679\n",
            " 0.16102693 0.16571071 0.16475892 0.16751409 0.17342517 0.17991234\n",
            " 0.16162805 0.16390733 0.16032561 0.15747026 0.16648716 0.16936351\n",
            " 0.1693325  0.16944617 0.16970575 0.17008546 0.17055391 0.17108318\n",
            " 0.17165174 0.17224434 0.17285091 0.17346528 0.17408392 0.174705\n",
            " 0.17532773 0.175952   0.17657799 0.17720596 0.17783636 0.17846945\n",
            " 0.17910558 0.17974493 0.18038768 0.18103388]\n",
            "23 day output [[0.18168366]]\n",
            "24 day input [0.2189856  0.22259236 0.21625548 0.22008766 0.22822793 0.22860363\n",
            " 0.2272511  0.22304321 0.22567314 0.22038823 0.22001252 0.21730745\n",
            " 0.21592987 0.21618034 0.21725736 0.21462743 0.19737007 0.19388854\n",
            " 0.18802755 0.18619912 0.19716969 0.19611772 0.19874765 0.19724483\n",
            " 0.19807138 0.19233563 0.18995617 0.20485911 0.21219787 0.21803381\n",
            " 0.22126487 0.21956168 0.21873513 0.21435191 0.21262367 0.20338134\n",
            " 0.19426425 0.2004258  0.19789606 0.20247965 0.20653726 0.20681277\n",
            " 0.20408265 0.20541014 0.20115216 0.19586725 0.19363807 0.19291171\n",
            " 0.18902943 0.18715091 0.18905448 0.1941891  0.18955542 0.18614903\n",
            " 0.18983093 0.18680025 0.1851221  0.18239198 0.17097057 0.15849718\n",
            " 0.15599249 0.15569192 0.16002505 0.16508453 0.16628679 0.16102693\n",
            " 0.16571071 0.16475892 0.16751409 0.17342517 0.17991234 0.16162805\n",
            " 0.16390733 0.16032561 0.15747026 0.16648716 0.16936351 0.1693325\n",
            " 0.16944617 0.16970575 0.17008546 0.17055391 0.17108318 0.17165174\n",
            " 0.17224434 0.17285091 0.17346528 0.17408392 0.174705   0.17532773\n",
            " 0.175952   0.17657799 0.17720596 0.17783636 0.17846945 0.17910558\n",
            " 0.17974493 0.18038768 0.18103388 0.18168366]\n",
            "24 day output [[0.18233696]]\n",
            "25 day input [0.22259236 0.21625548 0.22008766 0.22822793 0.22860363 0.2272511\n",
            " 0.22304321 0.22567314 0.22038823 0.22001252 0.21730745 0.21592987\n",
            " 0.21618034 0.21725736 0.21462743 0.19737007 0.19388854 0.18802755\n",
            " 0.18619912 0.19716969 0.19611772 0.19874765 0.19724483 0.19807138\n",
            " 0.19233563 0.18995617 0.20485911 0.21219787 0.21803381 0.22126487\n",
            " 0.21956168 0.21873513 0.21435191 0.21262367 0.20338134 0.19426425\n",
            " 0.2004258  0.19789606 0.20247965 0.20653726 0.20681277 0.20408265\n",
            " 0.20541014 0.20115216 0.19586725 0.19363807 0.19291171 0.18902943\n",
            " 0.18715091 0.18905448 0.1941891  0.18955542 0.18614903 0.18983093\n",
            " 0.18680025 0.1851221  0.18239198 0.17097057 0.15849718 0.15599249\n",
            " 0.15569192 0.16002505 0.16508453 0.16628679 0.16102693 0.16571071\n",
            " 0.16475892 0.16751409 0.17342517 0.17991234 0.16162805 0.16390733\n",
            " 0.16032561 0.15747026 0.16648716 0.16936351 0.1693325  0.16944617\n",
            " 0.16970575 0.17008546 0.17055391 0.17108318 0.17165174 0.17224434\n",
            " 0.17285091 0.17346528 0.17408392 0.174705   0.17532773 0.175952\n",
            " 0.17657799 0.17720596 0.17783636 0.17846945 0.17910558 0.17974493\n",
            " 0.18038768 0.18103388 0.18168366 0.18233696]\n",
            "25 day output [[0.18299377]]\n",
            "26 day input [0.21625548 0.22008766 0.22822793 0.22860363 0.2272511  0.22304321\n",
            " 0.22567314 0.22038823 0.22001252 0.21730745 0.21592987 0.21618034\n",
            " 0.21725736 0.21462743 0.19737007 0.19388854 0.18802755 0.18619912\n",
            " 0.19716969 0.19611772 0.19874765 0.19724483 0.19807138 0.19233563\n",
            " 0.18995617 0.20485911 0.21219787 0.21803381 0.22126487 0.21956168\n",
            " 0.21873513 0.21435191 0.21262367 0.20338134 0.19426425 0.2004258\n",
            " 0.19789606 0.20247965 0.20653726 0.20681277 0.20408265 0.20541014\n",
            " 0.20115216 0.19586725 0.19363807 0.19291171 0.18902943 0.18715091\n",
            " 0.18905448 0.1941891  0.18955542 0.18614903 0.18983093 0.18680025\n",
            " 0.1851221  0.18239198 0.17097057 0.15849718 0.15599249 0.15569192\n",
            " 0.16002505 0.16508453 0.16628679 0.16102693 0.16571071 0.16475892\n",
            " 0.16751409 0.17342517 0.17991234 0.16162805 0.16390733 0.16032561\n",
            " 0.15747026 0.16648716 0.16936351 0.1693325  0.16944617 0.16970575\n",
            " 0.17008546 0.17055391 0.17108318 0.17165174 0.17224434 0.17285091\n",
            " 0.17346528 0.17408392 0.174705   0.17532773 0.175952   0.17657799\n",
            " 0.17720596 0.17783636 0.17846945 0.17910558 0.17974493 0.18038768\n",
            " 0.18103388 0.18168366 0.18233696 0.18299377]\n",
            "26 day output [[0.18365405]]\n",
            "27 day input [0.22008766 0.22822793 0.22860363 0.2272511  0.22304321 0.22567314\n",
            " 0.22038823 0.22001252 0.21730745 0.21592987 0.21618034 0.21725736\n",
            " 0.21462743 0.19737007 0.19388854 0.18802755 0.18619912 0.19716969\n",
            " 0.19611772 0.19874765 0.19724483 0.19807138 0.19233563 0.18995617\n",
            " 0.20485911 0.21219787 0.21803381 0.22126487 0.21956168 0.21873513\n",
            " 0.21435191 0.21262367 0.20338134 0.19426425 0.2004258  0.19789606\n",
            " 0.20247965 0.20653726 0.20681277 0.20408265 0.20541014 0.20115216\n",
            " 0.19586725 0.19363807 0.19291171 0.18902943 0.18715091 0.18905448\n",
            " 0.1941891  0.18955542 0.18614903 0.18983093 0.18680025 0.1851221\n",
            " 0.18239198 0.17097057 0.15849718 0.15599249 0.15569192 0.16002505\n",
            " 0.16508453 0.16628679 0.16102693 0.16571071 0.16475892 0.16751409\n",
            " 0.17342517 0.17991234 0.16162805 0.16390733 0.16032561 0.15747026\n",
            " 0.16648716 0.16936351 0.1693325  0.16944617 0.16970575 0.17008546\n",
            " 0.17055391 0.17108318 0.17165174 0.17224434 0.17285091 0.17346528\n",
            " 0.17408392 0.174705   0.17532773 0.175952   0.17657799 0.17720596\n",
            " 0.17783636 0.17846945 0.17910558 0.17974493 0.18038768 0.18103388\n",
            " 0.18168366 0.18233696 0.18299377 0.18365405]\n",
            "27 day output [[0.18431774]]\n",
            "28 day input [0.22822793 0.22860363 0.2272511  0.22304321 0.22567314 0.22038823\n",
            " 0.22001252 0.21730745 0.21592987 0.21618034 0.21725736 0.21462743\n",
            " 0.19737007 0.19388854 0.18802755 0.18619912 0.19716969 0.19611772\n",
            " 0.19874765 0.19724483 0.19807138 0.19233563 0.18995617 0.20485911\n",
            " 0.21219787 0.21803381 0.22126487 0.21956168 0.21873513 0.21435191\n",
            " 0.21262367 0.20338134 0.19426425 0.2004258  0.19789606 0.20247965\n",
            " 0.20653726 0.20681277 0.20408265 0.20541014 0.20115216 0.19586725\n",
            " 0.19363807 0.19291171 0.18902943 0.18715091 0.18905448 0.1941891\n",
            " 0.18955542 0.18614903 0.18983093 0.18680025 0.1851221  0.18239198\n",
            " 0.17097057 0.15849718 0.15599249 0.15569192 0.16002505 0.16508453\n",
            " 0.16628679 0.16102693 0.16571071 0.16475892 0.16751409 0.17342517\n",
            " 0.17991234 0.16162805 0.16390733 0.16032561 0.15747026 0.16648716\n",
            " 0.16936351 0.1693325  0.16944617 0.16970575 0.17008546 0.17055391\n",
            " 0.17108318 0.17165174 0.17224434 0.17285091 0.17346528 0.17408392\n",
            " 0.174705   0.17532773 0.175952   0.17657799 0.17720596 0.17783636\n",
            " 0.17846945 0.17910558 0.17974493 0.18038768 0.18103388 0.18168366\n",
            " 0.18233696 0.18299377 0.18365405 0.18431774]\n",
            "28 day output [[0.18498477]]\n",
            "29 day input [0.22860363 0.2272511  0.22304321 0.22567314 0.22038823 0.22001252\n",
            " 0.21730745 0.21592987 0.21618034 0.21725736 0.21462743 0.19737007\n",
            " 0.19388854 0.18802755 0.18619912 0.19716969 0.19611772 0.19874765\n",
            " 0.19724483 0.19807138 0.19233563 0.18995617 0.20485911 0.21219787\n",
            " 0.21803381 0.22126487 0.21956168 0.21873513 0.21435191 0.21262367\n",
            " 0.20338134 0.19426425 0.2004258  0.19789606 0.20247965 0.20653726\n",
            " 0.20681277 0.20408265 0.20541014 0.20115216 0.19586725 0.19363807\n",
            " 0.19291171 0.18902943 0.18715091 0.18905448 0.1941891  0.18955542\n",
            " 0.18614903 0.18983093 0.18680025 0.1851221  0.18239198 0.17097057\n",
            " 0.15849718 0.15599249 0.15569192 0.16002505 0.16508453 0.16628679\n",
            " 0.16102693 0.16571071 0.16475892 0.16751409 0.17342517 0.17991234\n",
            " 0.16162805 0.16390733 0.16032561 0.15747026 0.16648716 0.16936351\n",
            " 0.1693325  0.16944617 0.16970575 0.17008546 0.17055391 0.17108318\n",
            " 0.17165174 0.17224434 0.17285091 0.17346528 0.17408392 0.174705\n",
            " 0.17532773 0.175952   0.17657799 0.17720596 0.17783636 0.17846945\n",
            " 0.17910558 0.17974493 0.18038768 0.18103388 0.18168366 0.18233696\n",
            " 0.18299377 0.18365405 0.18431774 0.18498477]\n",
            "29 day output [[0.18565509]]\n",
            "[[0.16936351358890533], [0.16933250427246094], [0.1694461703300476], [0.16970574855804443], [0.17008545994758606], [0.17055390775203705], [0.17108318209648132], [0.17165173590183258], [0.1722443401813507], [0.17285090684890747], [0.1734652817249298], [0.1740839183330536], [0.17470499873161316], [0.17532773315906525], [0.1759520024061203], [0.17657798528671265], [0.17720596492290497], [0.1778363585472107], [0.1784694492816925], [0.17910557985305786], [0.1797449290752411], [0.1803876757621765], [0.1810338795185089], [0.18168365955352783], [0.1823369562625885], [0.18299376964569092], [0.1836540549993515], [0.18431773781776428], [0.18498477339744568], [0.18565508723258972]]\n"
          ]
        }
      ]
    },
    {
      "cell_type": "code",
      "source": [
        "day_new=np.arange(1,101)\n",
        "day_pred=np.arange(101,131)"
      ],
      "metadata": {
        "id": "6IlCjA1Gg1h2"
      },
      "execution_count": 52,
      "outputs": []
    },
    {
      "cell_type": "code",
      "source": [
        "import matplotlib.pyplot as plt"
      ],
      "metadata": {
        "id": "gPlNb4nmhOg2"
      },
      "execution_count": 53,
      "outputs": []
    },
    {
      "cell_type": "code",
      "source": [
        "len(df1)"
      ],
      "metadata": {
        "colab": {
          "base_uri": "https://localhost:8080/"
        },
        "id": "pK8kq7tZhQaf",
        "outputId": "7a125491-c2b9-4cd6-f0c9-f7b7438c4a1c"
      },
      "execution_count": 54,
      "outputs": [
        {
          "output_type": "execute_result",
          "data": {
            "text/plain": [
              "1257"
            ]
          },
          "metadata": {},
          "execution_count": 54
        }
      ]
    },
    {
      "cell_type": "code",
      "source": [
        "plt.plot(day_new,scaler.inverse_transform(df1[1157:]))\n",
        "plt.plot(day_pred,scaler.inverse_transform(lst_output))"
      ],
      "metadata": {
        "colab": {
          "base_uri": "https://localhost:8080/",
          "height": 448
        },
        "id": "VGN_qTu4hR_Z",
        "outputId": "13cf86a2-0ee1-4422-eab0-23cd70403389"
      },
      "execution_count": 56,
      "outputs": [
        {
          "output_type": "execute_result",
          "data": {
            "text/plain": [
              "[<matplotlib.lines.Line2D at 0x7b8ce4d6b520>]"
            ]
          },
          "metadata": {},
          "execution_count": 56
        },
        {
          "output_type": "display_data",
          "data": {
            "text/plain": [
              "<Figure size 640x480 with 1 Axes>"
            ],
            "image/png": "[encoded data removed]"
          },
          "metadata": {}
        }
      ]
    },
    {
      "cell_type": "code",
      "source": [
        "df3=df1.tolist()\n",
        "df3.extend(lst_output)\n",
        "plt.plot(df3[1200:])"
      ],
      "metadata": {
        "colab": {
          "base_uri": "https://localhost:8080/",
          "height": 448
        },
        "id": "ZzVhUfSPhUc1",
        "outputId": "b540f39e-3630-4bdb-af1b-571fd36633f5"
      },
      "execution_count": 57,
      "outputs": [
        {
          "output_type": "execute_result",
          "data": {
            "text/plain": [
              "[<matplotlib.lines.Line2D at 0x7b8ce4df04c0>]"
            ]
          },
          "metadata": {},
          "execution_count": 57
        },
        {
          "output_type": "display_data",
          "data": {
            "text/plain": [
              "<Figure size 640x480 with 1 Axes>"
            ],
            "image/png": "[encoded data removed]"
          },
          "metadata": {}
        }
      ]
    },
    {
      "cell_type": "code",
      "source": [
        "df3=scaler.inverse_transform(df3).tolist()"
      ],
      "metadata": {
        "id": "6tq23C_thaN9"
      },
      "execution_count": 58,
      "outputs": []
    },
    {
      "cell_type": "code",
      "source": [
        "plt.plot(df3)"
      ],
      "metadata": {
        "colab": {
          "base_uri": "https://localhost:8080/",
          "height": 448
        },
        "id": "V_VLw68WhdQD",
        "outputId": "8c4dfb53-5e1d-4a3b-c2cd-c878726429b5"
      },
      "execution_count": 59,
      "outputs": [
        {
          "output_type": "execute_result",
          "data": {
            "text/plain": [
              "[<matplotlib.lines.Line2D at 0x7b8ce5d7b5e0>]"
            ]
          },
          "metadata": {},
          "execution_count": 59
        },
        {
          "output_type": "display_data",
          "data": {
            "text/plain": [
              "<Figure size 640x480 with 1 Axes>"
            ],
            "image/png": "[encoded data removed]"
          },
          "metadata": {}
        }
      ]
    },
    {
      "cell_type": "code",
      "source": [],
      "metadata": {
        "id": "LFBxLgnchenn"
      },
      "execution_count": null,
      "outputs": []
    }
  ]
}